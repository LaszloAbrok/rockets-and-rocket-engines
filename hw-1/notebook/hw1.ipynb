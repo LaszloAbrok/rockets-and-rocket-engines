{
 "cells": [
  {
   "cell_type": "markdown",
   "metadata": {},
   "source": [
    "# Rockets, rocket engines - Homework 1"
   ]
  },
  {
   "cell_type": "markdown",
   "metadata": {},
   "source": [
    "### Imports"
   ]
  },
  {
   "cell_type": "code",
   "execution_count": 114,
   "metadata": {},
   "outputs": [],
   "source": [
    "import json\n",
    "import numpy as np\n",
    "from scipy.optimize import fsolve\n",
    "import matplotlib.pyplot as plt\n",
    "import pandas as pd"
   ]
  },
  {
   "cell_type": "code",
   "execution_count": 83,
   "metadata": {},
   "outputs": [],
   "source": [
    "with open('../data/import/data.json', 'r') as f:\n",
    "    data = json.load(f)"
   ]
  },
  {
   "cell_type": "markdown",
   "metadata": {},
   "source": [
    "## Task 1 - Characteristic velocity"
   ]
  },
  {
   "cell_type": "code",
   "execution_count": 84,
   "metadata": {},
   "outputs": [],
   "source": [
    "m_0 = data['m_0']\n",
    "m_evp = data['m_evp']\n",
    "t_muk = data['t_muk']\n",
    "\n",
    "m_flow_rate = (m_0 - m_evp) / t_muk"
   ]
  },
  {
   "cell_type": "code",
   "execution_count": 85,
   "metadata": {},
   "outputs": [
    {
     "name": "stdout",
     "output_type": "stream",
     "text": [
      "Mass flow rate = 26.8500 kg/s\n"
     ]
    }
   ],
   "source": [
    "print(f\"Mass flow rate = {m_flow_rate:.4f} kg/s\")"
   ]
  },
  {
   "cell_type": "code",
   "execution_count": 86,
   "metadata": {},
   "outputs": [],
   "source": [
    "p_1 = data['p_1']\n",
    "R = data['R']\n",
    "t_1 = data['t_1']\n",
    "k = data['k']\n",
    "\n",
    "A_t = (m_flow_rate) / ((p_1) * np.sqrt(k / (R * t_1)) * np.pow( 2/(k + 1) , (k + 1) / (2 * (k - 1)) ))"
   ]
  },
  {
   "cell_type": "code",
   "execution_count": 87,
   "metadata": {},
   "outputs": [
    {
     "name": "stdout",
     "output_type": "stream",
     "text": [
      "Area of the throat = 0.0056 m^2\n"
     ]
    }
   ],
   "source": [
    "print(f\"Area of the throat = {A_t:.4f} m^2\")"
   ]
  },
  {
   "cell_type": "code",
   "execution_count": 88,
   "metadata": {},
   "outputs": [],
   "source": [
    "characteristic_velocity =  ( p_1 * A_t ) / m_flow_rate"
   ]
  },
  {
   "cell_type": "code",
   "execution_count": 89,
   "metadata": {},
   "outputs": [
    {
     "name": "stdout",
     "output_type": "stream",
     "text": [
      "Characteristic velocity = 1465.6904 m/s\n"
     ]
    }
   ],
   "source": [
    "print(f\"Characteristic velocity = {characteristic_velocity:.4f} m/s\")"
   ]
  },
  {
   "cell_type": "markdown",
   "metadata": {},
   "source": [
    "# Task 2 - throat characteristics"
   ]
  },
  {
   "cell_type": "markdown",
   "metadata": {},
   "source": [
    "Geometric sizes"
   ]
  },
  {
   "cell_type": "markdown",
   "metadata": {},
   "source": [
    "The mass flow rate and throat area was determined in the previous task."
   ]
  },
  {
   "cell_type": "code",
   "execution_count": 90,
   "metadata": {},
   "outputs": [],
   "source": [
    "d_t = np.sqrt(4 * A_t / np.pi)"
   ]
  },
  {
   "cell_type": "code",
   "execution_count": 91,
   "metadata": {},
   "outputs": [
    {
     "name": "stdout",
     "output_type": "stream",
     "text": [
      "Diameter of the throat = 0.0846 m\n"
     ]
    }
   ],
   "source": [
    "print(f\"Diameter of the throat = {d_t:.4f} m\")"
   ]
  },
  {
   "cell_type": "markdown",
   "metadata": {},
   "source": [
    "Thermodynamic characteristics"
   ]
  },
  {
   "cell_type": "markdown",
   "metadata": {},
   "source": [
    "Using Poisson's equations, we can determine the critical temperature vlaue measured in the cross-section of nozzle."
   ]
  },
  {
   "cell_type": "code",
   "execution_count": 92,
   "metadata": {},
   "outputs": [],
   "source": [
    "t_t = 2 * t_1 / (k + 1)"
   ]
  },
  {
   "cell_type": "code",
   "execution_count": 93,
   "metadata": {},
   "outputs": [
    {
     "name": "stdout",
     "output_type": "stream",
     "text": [
      "Temperature at the throat = 2473.4389 K\n"
     ]
    }
   ],
   "source": [
    "print(f\"Temperature at the throat = {t_t:.4f} K\")"
   ]
  },
  {
   "cell_type": "markdown",
   "metadata": {},
   "source": [
    "Isentropic process pressure"
   ]
  },
  {
   "cell_type": "code",
   "execution_count": 94,
   "metadata": {},
   "outputs": [],
   "source": [
    "p_t = p_1 * np.pow( (2 / (k + 1) ) , (k / (k - 1)) )"
   ]
  },
  {
   "cell_type": "code",
   "execution_count": 95,
   "metadata": {},
   "outputs": [
    {
     "name": "stdout",
     "output_type": "stream",
     "text": [
      "Isentropic process pressure = 3937755.2917 Pa\n"
     ]
    }
   ],
   "source": [
    "print(f\"Isentropic process pressure = {p_t:.4f} Pa\")"
   ]
  },
  {
   "cell_type": "markdown",
   "metadata": {},
   "source": [
    "Density at throat"
   ]
  },
  {
   "cell_type": "code",
   "execution_count": 96,
   "metadata": {},
   "outputs": [],
   "source": [
    "ro_t = p_t / (R * t_t)"
   ]
  },
  {
   "cell_type": "code",
   "execution_count": 97,
   "metadata": {},
   "outputs": [
    {
     "name": "stdout",
     "output_type": "stream",
     "text": [
      "Density at the throat = 4.7872 kg/m^3\n"
     ]
    }
   ],
   "source": [
    "print(f\"Density at the throat = {ro_t:.4f} kg/m^3\")"
   ]
  },
  {
   "cell_type": "markdown",
   "metadata": {},
   "source": [
    "## Task 3 - exitation pressure and optimal height"
   ]
  },
  {
   "cell_type": "markdown",
   "metadata": {},
   "source": [
    "Determining exitation Mach number"
   ]
  },
  {
   "cell_type": "code",
   "execution_count": 98,
   "metadata": {},
   "outputs": [],
   "source": [
    "def expansion_ratio_eq(M, epsilon, k):\n",
    "    term1 = 1 / M\n",
    "    term2 = ((2 / (k + 1)) * (1 + ((k - 1)/2) * M**2))**((k + 1)/(2 * (k - 1)))\n",
    "    return term1 * term2 - epsilon\n",
    "\n",
    "def solve_exit_mach(epsilon, k, guess=3.0):\n",
    "    M_e, = fsolve(expansion_ratio_eq, guess, args=(epsilon, k))\n",
    "    return M_e"
   ]
  },
  {
   "cell_type": "code",
   "execution_count": 99,
   "metadata": {},
   "outputs": [
    {
     "name": "stdout",
     "output_type": "stream",
     "text": [
      "Exit Mach number = 3.4373\n"
     ]
    }
   ],
   "source": [
    "epsilon = data['epsilon']\n",
    "M_e = solve_exit_mach(epsilon, k)\n",
    "print(f\"Exit Mach number = {M_e:.4f}\")"
   ]
  },
  {
   "cell_type": "code",
   "execution_count": 100,
   "metadata": {},
   "outputs": [],
   "source": [
    "p_2 = p_1 * (1 + ((k-1)/2) * M_e**2) **(-k/(k-1)) "
   ]
  },
  {
   "cell_type": "code",
   "execution_count": 101,
   "metadata": {},
   "outputs": [
    {
     "name": "stdout",
     "output_type": "stream",
     "text": [
      "Pressure at the exit = 67042.3800 Pa\n"
     ]
    }
   ],
   "source": [
    "print(f\"Pressure at the exit = {p_2:.4f} Pa\")"
   ]
  },
  {
   "cell_type": "code",
   "execution_count": 102,
   "metadata": {},
   "outputs": [],
   "source": [
    "p_0 = 101325\n",
    "T_0 = 288.15\n",
    "R = 8.314\n",
    "g = 9.81\n",
    "M_air = 0.029"
   ]
  },
  {
   "cell_type": "code",
   "execution_count": 103,
   "metadata": {},
   "outputs": [
    {
     "name": "stdout",
     "output_type": "stream",
     "text": [
      "Optimal height = 3477.9259 m\n"
     ]
    }
   ],
   "source": [
    "h_opt = -np.log(p_2/p_0) * (T_0 * R)/(g * M_air)\n",
    "print(f\"Optimal height = {h_opt:.4f} m\")"
   ]
  },
  {
   "cell_type": "markdown",
   "metadata": {},
   "source": [
    "## Task 4 - thrust and thrust factor"
   ]
  },
  {
   "cell_type": "code",
   "execution_count": 104,
   "metadata": {},
   "outputs": [],
   "source": [
    "v_exit = np.sqrt( (2 * k / (k - 1)) * R * t_1 * (1 - (p_2 / p_1) ** ((k - 1) / k)))"
   ]
  },
  {
   "cell_type": "code",
   "execution_count": 105,
   "metadata": {},
   "outputs": [],
   "source": [
    "A_e = epsilon * A_t"
   ]
  },
  {
   "cell_type": "code",
   "execution_count": 115,
   "metadata": {},
   "outputs": [
    {
     "data": {
      "text/html": [
       "<div>\n",
       "<style scoped>\n",
       "    .dataframe tbody tr th:only-of-type {\n",
       "        vertical-align: middle;\n",
       "    }\n",
       "\n",
       "    .dataframe tbody tr th {\n",
       "        vertical-align: top;\n",
       "    }\n",
       "\n",
       "    .dataframe thead th {\n",
       "        text-align: right;\n",
       "    }\n",
       "</style>\n",
       "<table border=\"1\" class=\"dataframe\">\n",
       "  <thead>\n",
       "    <tr style=\"text-align: right;\">\n",
       "      <th></th>\n",
       "      <th>Altitude [m]</th>\n",
       "      <th>Thrust [N]</th>\n",
       "      <th>Thrust coefficient</th>\n",
       "    </tr>\n",
       "  </thead>\n",
       "  <tbody>\n",
       "    <tr>\n",
       "      <th>0</th>\n",
       "      <td>0.000000</td>\n",
       "      <td>7910.951931</td>\n",
       "      <td>0.201021</td>\n",
       "    </tr>\n",
       "    <tr>\n",
       "      <th>1</th>\n",
       "      <td>157.894737</td>\n",
       "      <td>8037.951696</td>\n",
       "      <td>0.204248</td>\n",
       "    </tr>\n",
       "    <tr>\n",
       "      <th>2</th>\n",
       "      <td>315.789474</td>\n",
       "      <td>8163.034098</td>\n",
       "      <td>0.207427</td>\n",
       "    </tr>\n",
       "    <tr>\n",
       "      <th>3</th>\n",
       "      <td>473.684211</td>\n",
       "      <td>8286.221363</td>\n",
       "      <td>0.210557</td>\n",
       "    </tr>\n",
       "    <tr>\n",
       "      <th>4</th>\n",
       "      <td>631.578947</td>\n",
       "      <td>8407.535535</td>\n",
       "      <td>0.213640</td>\n",
       "    </tr>\n",
       "    <tr>\n",
       "      <th>5</th>\n",
       "      <td>789.473684</td>\n",
       "      <td>8526.998481</td>\n",
       "      <td>0.216675</td>\n",
       "    </tr>\n",
       "    <tr>\n",
       "      <th>6</th>\n",
       "      <td>947.368421</td>\n",
       "      <td>8644.631892</td>\n",
       "      <td>0.219665</td>\n",
       "    </tr>\n",
       "    <tr>\n",
       "      <th>7</th>\n",
       "      <td>1105.263158</td>\n",
       "      <td>8760.457280</td>\n",
       "      <td>0.222608</td>\n",
       "    </tr>\n",
       "    <tr>\n",
       "      <th>8</th>\n",
       "      <td>1263.157895</td>\n",
       "      <td>8874.495981</td>\n",
       "      <td>0.225506</td>\n",
       "    </tr>\n",
       "    <tr>\n",
       "      <th>9</th>\n",
       "      <td>1421.052632</td>\n",
       "      <td>8986.769157</td>\n",
       "      <td>0.228358</td>\n",
       "    </tr>\n",
       "    <tr>\n",
       "      <th>10</th>\n",
       "      <td>1578.947368</td>\n",
       "      <td>9097.297797</td>\n",
       "      <td>0.231167</td>\n",
       "    </tr>\n",
       "    <tr>\n",
       "      <th>11</th>\n",
       "      <td>1736.842105</td>\n",
       "      <td>9206.102713</td>\n",
       "      <td>0.233932</td>\n",
       "    </tr>\n",
       "    <tr>\n",
       "      <th>12</th>\n",
       "      <td>1894.736842</td>\n",
       "      <td>9313.204547</td>\n",
       "      <td>0.236653</td>\n",
       "    </tr>\n",
       "    <tr>\n",
       "      <th>13</th>\n",
       "      <td>2052.631579</td>\n",
       "      <td>9418.623769</td>\n",
       "      <td>0.239332</td>\n",
       "    </tr>\n",
       "    <tr>\n",
       "      <th>14</th>\n",
       "      <td>2210.526316</td>\n",
       "      <td>9522.380677</td>\n",
       "      <td>0.241969</td>\n",
       "    </tr>\n",
       "    <tr>\n",
       "      <th>15</th>\n",
       "      <td>2368.421053</td>\n",
       "      <td>9624.495398</td>\n",
       "      <td>0.244563</td>\n",
       "    </tr>\n",
       "    <tr>\n",
       "      <th>16</th>\n",
       "      <td>2526.315789</td>\n",
       "      <td>9724.987892</td>\n",
       "      <td>0.247117</td>\n",
       "    </tr>\n",
       "    <tr>\n",
       "      <th>17</th>\n",
       "      <td>2684.210526</td>\n",
       "      <td>9823.877948</td>\n",
       "      <td>0.249630</td>\n",
       "    </tr>\n",
       "    <tr>\n",
       "      <th>18</th>\n",
       "      <td>2842.105263</td>\n",
       "      <td>9921.185188</td>\n",
       "      <td>0.252102</td>\n",
       "    </tr>\n",
       "    <tr>\n",
       "      <th>19</th>\n",
       "      <td>3000.000000</td>\n",
       "      <td>10016.929066</td>\n",
       "      <td>0.254535</td>\n",
       "    </tr>\n",
       "  </tbody>\n",
       "</table>\n",
       "</div>"
      ],
      "text/plain": [
       "    Altitude [m]    Thrust [N]  Thrust coefficient\n",
       "0       0.000000   7910.951931            0.201021\n",
       "1     157.894737   8037.951696            0.204248\n",
       "2     315.789474   8163.034098            0.207427\n",
       "3     473.684211   8286.221363            0.210557\n",
       "4     631.578947   8407.535535            0.213640\n",
       "5     789.473684   8526.998481            0.216675\n",
       "6     947.368421   8644.631892            0.219665\n",
       "7    1105.263158   8760.457280            0.222608\n",
       "8    1263.157895   8874.495981            0.225506\n",
       "9    1421.052632   8986.769157            0.228358\n",
       "10   1578.947368   9097.297797            0.231167\n",
       "11   1736.842105   9206.102713            0.233932\n",
       "12   1894.736842   9313.204547            0.236653\n",
       "13   2052.631579   9418.623769            0.239332\n",
       "14   2210.526316   9522.380677            0.241969\n",
       "15   2368.421053   9624.495398            0.244563\n",
       "16   2526.315789   9724.987892            0.247117\n",
       "17   2684.210526   9823.877948            0.249630\n",
       "18   2842.105263   9921.185188            0.252102\n",
       "19   3000.000000  10016.929066            0.254535"
      ]
     },
     "metadata": {},
     "output_type": "display_data"
    },
    {
     "data": {
      "image/png": "[encoded data removed]",
      "text/plain": [
       "<Figure size 1200x500 with 2 Axes>"
      ]
     },
     "metadata": {},
     "output_type": "display_data"
    }
   ],
   "source": [
    "H_0 = data[\"H_0\"]\n",
    "H_evp = data[\"H_evp\"]\n",
    "heights = np.linspace(H_0, H_evp, 20)\n",
    "\n",
    "A_e = A_t * epsilon\n",
    "m_dot = m_flow_rate\n",
    "v_e = np.sqrt((2 * k / (k - 1)) * R * t_1 * (1 - (p_2 / p_1) ** ((k - 1) / k)))  # exit velocity\n",
    "\n",
    "# approximation of atmospheric pressure as a function of height (only works up to ~11 km)\n",
    "def p_atm(h):\n",
    "    return 101325 * (1 - 2.25577e-5 * h) ** 5.25588\n",
    "\n",
    "thrusts = []\n",
    "thrust_coeffs = []\n",
    "\n",
    "for h in heights:\n",
    "    patm = p_atm(h)\n",
    "    thrust = m_dot * v_e + (p_2 - patm) * A_e\n",
    "    c_f = thrust / (p_1 * A_t)\n",
    "    thrusts.append(thrust)\n",
    "    thrust_coeffs.append(c_f)\n",
    "\n",
    "df = pd.DataFrame({\n",
    "    \"Altitude [m]\": heights,\n",
    "    \"Thrust [N]\": thrusts,\n",
    "    \"Thrust coefficient\": thrust_coeffs\n",
    "})\n",
    "\n",
    "display(df)\n",
    "\n",
    "plt.figure(figsize=(12, 5))\n",
    "\n",
    "plt.subplot(1, 2, 1)\n",
    "plt.plot(heights, thrusts, marker='o')\n",
    "plt.xlabel(\"Altitude [m]\")\n",
    "plt.ylabel(\"Thrust [N]\")\n",
    "plt.title(\"Thrust vs Altitude\")\n",
    "plt.grid(True)\n",
    "\n",
    "plt.subplot(1, 2, 2)\n",
    "plt.plot(heights, thrust_coeffs, marker='o', color='orange')\n",
    "plt.xlabel(\"Altitude [m]\")\n",
    "plt.ylabel(\"Thrust coefficient\")\n",
    "plt.title(\"Thrust Coefficient vs Altitude\")\n",
    "plt.grid(True)\n",
    "\n",
    "plt.tight_layout()\n",
    "plt.show()"
   ]
  },
  {
   "cell_type": "code",
   "execution_count": 116,
   "metadata": {},
   "outputs": [],
   "source": [
    "df.to_csv('../data/df.csv', index=False)"
   ]
  }
 ],
 "metadata": {
  "kernelspec": {
   "display_name": "Python 3",
   "language": "python",
   "name": "python3"
  },
  "language_info": {
   "codemirror_mode": {
    "name": "ipython",
    "version": 3
   },
   "file_extension": ".py",
   "mimetype": "text/x-python",
   "name": "python",
   "nbconvert_exporter": "python",
   "pygments_lexer": "ipython3",
   "version": "3.12.7"
  }
 },
 "nbformat": 4,
 "nbformat_minor": 2
}
