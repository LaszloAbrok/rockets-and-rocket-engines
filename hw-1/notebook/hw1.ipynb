{
 "cells": [
  {
   "cell_type": "markdown",
   "metadata": {},
   "source": [
    "# Rockets, rocket engines - Homework 1"
   ]
  },
  {
   "cell_type": "markdown",
   "metadata": {},
   "source": [
    "### Imports"
   ]
  },
  {
   "cell_type": "code",
   "execution_count": 21,
   "metadata": {},
   "outputs": [],
   "source": [
    "import json\n",
    "import numpy as np"
   ]
  },
  {
   "cell_type": "code",
   "execution_count": 17,
   "metadata": {},
   "outputs": [],
   "source": [
    "with open('../data/data.json', 'r') as f:\n",
    "    data = json.load(f)"
   ]
  },
  {
   "cell_type": "markdown",
   "metadata": {},
   "source": [
    "## Task 1 - Characteristic velocity"
   ]
  },
  {
   "cell_type": "code",
   "execution_count": 18,
   "metadata": {},
   "outputs": [],
   "source": [
    "m_0 = data['m_0']\n",
    "m_evp = data['m_evp']\n",
    "t_muk = data['t_muk']\n",
    "\n",
    "m_flow_rate = (m_0 - m_evp) / t_muk"
   ]
  },
  {
   "cell_type": "code",
   "execution_count": 19,
   "metadata": {},
   "outputs": [
    {
     "name": "stdout",
     "output_type": "stream",
     "text": [
      "Mass flow rate = 26.8500 kg/s\n"
     ]
    }
   ],
   "source": [
    "print(f\"Mass flow rate = {m_flow_rate:.4f} kg/s\")"
   ]
  },
  {
   "cell_type": "code",
   "execution_count": 25,
   "metadata": {},
   "outputs": [],
   "source": [
    "p_1 = data['p_1']\n",
    "R = data['R']\n",
    "t_1 = data['t_1']\n",
    "k = data['k']\n",
    "\n",
    "A_t = (m_flow_rate) / ((p_1) * np.sqrt(k / (R * t_1)) * np.pow( 2/(k + 1) , (k + 1) / (2 * (k - 1)) ))"
   ]
  },
  {
   "cell_type": "code",
   "execution_count": 26,
   "metadata": {},
   "outputs": [
    {
     "name": "stdout",
     "output_type": "stream",
     "text": [
      "Area of the throat = 0.0056 m^2\n"
     ]
    }
   ],
   "source": [
    "print(f\"Area of the throat = {A_t:.4f} m^2\")"
   ]
  },
  {
   "cell_type": "code",
   "execution_count": 29,
   "metadata": {},
   "outputs": [],
   "source": [
    "characteristic_velocity =  ( p_1 * A_t ) / m_flow_rate"
   ]
  },
  {
   "cell_type": "code",
   "execution_count": 30,
   "metadata": {},
   "outputs": [
    {
     "name": "stdout",
     "output_type": "stream",
     "text": [
      "Characteristic velocity = 1465.6904 m/s\n"
     ]
    }
   ],
   "source": [
    "print(f\"Characteristic velocity = {characteristic_velocity:.4f} m/s\")"
   ]
  },
  {
   "cell_type": "markdown",
   "metadata": {},
   "source": [
    "# Task 2 - throat characteristics"
   ]
  },
  {
   "cell_type": "markdown",
   "metadata": {},
   "source": [
    "Geometric sizes"
   ]
  },
  {
   "cell_type": "markdown",
   "metadata": {},
   "source": [
    "The mass flow rate and throat area was determined in the previous task."
   ]
  },
  {
   "cell_type": "code",
   "execution_count": 31,
   "metadata": {},
   "outputs": [],
   "source": [
    "d_t = np.sqrt(4 * A_t / np.pi)"
   ]
  },
  {
   "cell_type": "code",
   "execution_count": 32,
   "metadata": {},
   "outputs": [
    {
     "name": "stdout",
     "output_type": "stream",
     "text": [
      "Diameter of the throat = 0.0846 m\n"
     ]
    }
   ],
   "source": [
    "print(f\"Diameter of the throat = {d_t:.4f} m\")"
   ]
  },
  {
   "cell_type": "markdown",
   "metadata": {},
   "source": [
    "Thermodynamic characteristics"
   ]
  },
  {
   "cell_type": "markdown",
   "metadata": {},
   "source": [
    "Using Poisson's equations, we can determine the critical temperature vlaue measured in the cross-section of nozzle."
   ]
  },
  {
   "cell_type": "code",
   "execution_count": 33,
   "metadata": {},
   "outputs": [],
   "source": [
    "t_t = 2 * t_1 / (k + 1)"
   ]
  },
  {
   "cell_type": "code",
   "execution_count": 34,
   "metadata": {},
   "outputs": [
    {
     "name": "stdout",
     "output_type": "stream",
     "text": [
      "Temperature at the throat = 2473.4389 K\n"
     ]
    }
   ],
   "source": [
    "print(f\"Temperature at the throat = {t_t:.4f} K\")"
   ]
  },
  {
   "cell_type": "markdown",
   "metadata": {},
   "source": [
    "Isentropic process pressure"
   ]
  },
  {
   "cell_type": "code",
   "execution_count": 38,
   "metadata": {},
   "outputs": [],
   "source": [
    "p_t = p_1 * np.pow( (2 / (k + 1) ) , (k / (k - 1)) )"
   ]
  },
  {
   "cell_type": "code",
   "execution_count": 39,
   "metadata": {},
   "outputs": [
    {
     "name": "stdout",
     "output_type": "stream",
     "text": [
      "Isentropic process pressure = 3937755.2917 Pa\n"
     ]
    }
   ],
   "source": [
    "print(f\"Isentropic process pressure = {p_t:.4f} Pa\")"
   ]
  },
  {
   "cell_type": "markdown",
   "metadata": {},
   "source": [
    "Density at throat"
   ]
  },
  {
   "cell_type": "code",
   "execution_count": 40,
   "metadata": {},
   "outputs": [],
   "source": [
    "ro_t = p_t / (R * t_t)"
   ]
  },
  {
   "cell_type": "code",
   "execution_count": 41,
   "metadata": {},
   "outputs": [
    {
     "name": "stdout",
     "output_type": "stream",
     "text": [
      "Density at the throat = 4.7872 kg/m^3\n"
     ]
    }
   ],
   "source": [
    "print(f\"Density at the throat = {ro_t:.4f} kg/m^3\")"
   ]
  },
  {
   "cell_type": "markdown",
   "metadata": {},
   "source": [
    "The exit pressure can be calculated based on the isentropic expansion. Using the expansion ratio and adiabatic constant."
   ]
  },
  {
   "cell_type": "code",
   "execution_count": 57,
   "metadata": {},
   "outputs": [
    {
     "name": "stdout",
     "output_type": "stream",
     "text": [
      "Pressure at the exit = 1662098.9928 Pa\n"
     ]
    }
   ],
   "source": [
    "epsilon = data['epsilon']\n",
    "\n",
    "p_2 = p_1 * np.pow( (2 / (k + 1) ) , (k / (k - 1)) ) * np.pow(1 / np.pow(epsilon, 2), ((k - 1) / k) )\n",
    "print(f\"Pressure at the exit = {p_2:.4f} Pa\")"
   ]
  },
  {
   "cell_type": "markdown",
   "metadata": {},
   "source": [
    "Based on ISA the altitude can be calculated as follows:"
   ]
  },
  {
   "cell_type": "code",
   "execution_count": 59,
   "metadata": {},
   "outputs": [],
   "source": [
    "p_0 = 101325\n",
    "T_0 = 288.15\n",
    "L = 0.00065\n",
    "g = 9.81\n",
    "R = 287.05"
   ]
  },
  {
   "cell_type": "code",
   "execution_count": 60,
   "metadata": {},
   "outputs": [],
   "source": [
    "h_opt = (T_0 / L) * (1 - (p_2 / p_0)**(R * L / g))"
   ]
  },
  {
   "cell_type": "code",
   "execution_count": 61,
   "metadata": {},
   "outputs": [
    {
     "name": "stdout",
     "output_type": "stream",
     "text": [
      "Optimal height = -24226.0643 m\n"
     ]
    }
   ],
   "source": [
    "print (f\"Optimal height = {h_opt:.4f} m\")"
   ]
  }
 ],
 "metadata": {
  "kernelspec": {
   "display_name": "Python 3",
   "language": "python",
   "name": "python3"
  },
  "language_info": {
   "codemirror_mode": {
    "name": "ipython",
    "version": 3
   },
   "file_extension": ".py",
   "mimetype": "text/x-python",
   "name": "python",
   "nbconvert_exporter": "python",
   "pygments_lexer": "ipython3",
   "version": "3.12.7"
  }
 },
 "nbformat": 4,
 "nbformat_minor": 2
}
