{
 "cells": [
  {
   "cell_type": "markdown",
   "metadata": {},
   "source": [
    "# Rockets, rocket engines - Homework 1"
   ]
  },
  {
   "cell_type": "markdown",
   "metadata": {},
   "source": [
    "### Imports"
   ]
  },
  {
   "cell_type": "code",
   "execution_count": 82,
   "metadata": {},
   "outputs": [],
   "source": [
    "import json\n",
    "import numpy as np\n",
    "from scipy.optimize import fsolve\n",
    "import matplotlib.pyplot as plt"
   ]
  },
  {
   "cell_type": "code",
   "execution_count": 83,
   "metadata": {},
   "outputs": [],
   "source": [
    "with open('../data/data.json', 'r') as f:\n",
    "    data = json.load(f)"
   ]
  },
  {
   "cell_type": "markdown",
   "metadata": {},
   "source": [
    "## Task 1 - Characteristic velocity"
   ]
  },
  {
   "cell_type": "code",
   "execution_count": 84,
   "metadata": {},
   "outputs": [],
   "source": [
    "m_0 = data['m_0']\n",
    "m_evp = data['m_evp']\n",
    "t_muk = data['t_muk']\n",
    "\n",
    "m_flow_rate = (m_0 - m_evp) / t_muk"
   ]
  },
  {
   "cell_type": "code",
   "execution_count": 85,
   "metadata": {},
   "outputs": [
    {
     "name": "stdout",
     "output_type": "stream",
     "text": [
      "Mass flow rate = 26.8500 kg/s\n"
     ]
    }
   ],
   "source": [
    "print(f\"Mass flow rate = {m_flow_rate:.4f} kg/s\")"
   ]
  },
  {
   "cell_type": "code",
   "execution_count": 86,
   "metadata": {},
   "outputs": [],
   "source": [
    "p_1 = data['p_1']\n",
    "R = data['R']\n",
    "t_1 = data['t_1']\n",
    "k = data['k']\n",
    "\n",
    "A_t = (m_flow_rate) / ((p_1) * np.sqrt(k / (R * t_1)) * np.pow( 2/(k + 1) , (k + 1) / (2 * (k - 1)) ))"
   ]
  },
  {
   "cell_type": "code",
   "execution_count": 87,
   "metadata": {},
   "outputs": [
    {
     "name": "stdout",
     "output_type": "stream",
     "text": [
      "Area of the throat = 0.0056 m^2\n"
     ]
    }
   ],
   "source": [
    "print(f\"Area of the throat = {A_t:.4f} m^2\")"
   ]
  },
  {
   "cell_type": "code",
   "execution_count": 88,
   "metadata": {},
   "outputs": [],
   "source": [
    "characteristic_velocity =  ( p_1 * A_t ) / m_flow_rate"
   ]
  },
  {
   "cell_type": "code",
   "execution_count": 89,
   "metadata": {},
   "outputs": [
    {
     "name": "stdout",
     "output_type": "stream",
     "text": [
      "Characteristic velocity = 1465.6904 m/s\n"
     ]
    }
   ],
   "source": [
    "print(f\"Characteristic velocity = {characteristic_velocity:.4f} m/s\")"
   ]
  },
  {
   "cell_type": "markdown",
   "metadata": {},
   "source": [
    "# Task 2 - throat characteristics"
   ]
  },
  {
   "cell_type": "markdown",
   "metadata": {},
   "source": [
    "Geometric sizes"
   ]
  },
  {
   "cell_type": "markdown",
   "metadata": {},
   "source": [
    "The mass flow rate and throat area was determined in the previous task."
   ]
  },
  {
   "cell_type": "code",
   "execution_count": 90,
   "metadata": {},
   "outputs": [],
   "source": [
    "d_t = np.sqrt(4 * A_t / np.pi)"
   ]
  },
  {
   "cell_type": "code",
   "execution_count": 91,
   "metadata": {},
   "outputs": [
    {
     "name": "stdout",
     "output_type": "stream",
     "text": [
      "Diameter of the throat = 0.0846 m\n"
     ]
    }
   ],
   "source": [
    "print(f\"Diameter of the throat = {d_t:.4f} m\")"
   ]
  },
  {
   "cell_type": "markdown",
   "metadata": {},
   "source": [
    "Thermodynamic characteristics"
   ]
  },
  {
   "cell_type": "markdown",
   "metadata": {},
   "source": [
    "Using Poisson's equations, we can determine the critical temperature vlaue measured in the cross-section of nozzle."
   ]
  },
  {
   "cell_type": "code",
   "execution_count": 92,
   "metadata": {},
   "outputs": [],
   "source": [
    "t_t = 2 * t_1 / (k + 1)"
   ]
  },
  {
   "cell_type": "code",
   "execution_count": 93,
   "metadata": {},
   "outputs": [
    {
     "name": "stdout",
     "output_type": "stream",
     "text": [
      "Temperature at the throat = 2473.4389 K\n"
     ]
    }
   ],
   "source": [
    "print(f\"Temperature at the throat = {t_t:.4f} K\")"
   ]
  },
  {
   "cell_type": "markdown",
   "metadata": {},
   "source": [
    "Isentropic process pressure"
   ]
  },
  {
   "cell_type": "code",
   "execution_count": 94,
   "metadata": {},
   "outputs": [],
   "source": [
    "p_t = p_1 * np.pow( (2 / (k + 1) ) , (k / (k - 1)) )"
   ]
  },
  {
   "cell_type": "code",
   "execution_count": 95,
   "metadata": {},
   "outputs": [
    {
     "name": "stdout",
     "output_type": "stream",
     "text": [
      "Isentropic process pressure = 3937755.2917 Pa\n"
     ]
    }
   ],
   "source": [
    "print(f\"Isentropic process pressure = {p_t:.4f} Pa\")"
   ]
  },
  {
   "cell_type": "markdown",
   "metadata": {},
   "source": [
    "Density at throat"
   ]
  },
  {
   "cell_type": "code",
   "execution_count": 96,
   "metadata": {},
   "outputs": [],
   "source": [
    "ro_t = p_t / (R * t_t)"
   ]
  },
  {
   "cell_type": "code",
   "execution_count": 97,
   "metadata": {},
   "outputs": [
    {
     "name": "stdout",
     "output_type": "stream",
     "text": [
      "Density at the throat = 4.7872 kg/m^3\n"
     ]
    }
   ],
   "source": [
    "print(f\"Density at the throat = {ro_t:.4f} kg/m^3\")"
   ]
  },
  {
   "cell_type": "markdown",
   "metadata": {},
   "source": [
    "## Task 3 - exitation pressure and optimal height"
   ]
  },
  {
   "cell_type": "markdown",
   "metadata": {},
   "source": [
    "Determining exitation Mach number"
   ]
  },
  {
   "cell_type": "code",
   "execution_count": 98,
   "metadata": {},
   "outputs": [],
   "source": [
    "def expansion_ratio_eq(M, epsilon, k):\n",
    "    term1 = 1 / M\n",
    "    term2 = ((2 / (k + 1)) * (1 + ((k - 1)/2) * M**2))**((k + 1)/(2 * (k - 1)))\n",
    "    return term1 * term2 - epsilon\n",
    "\n",
    "def solve_exit_mach(epsilon, k, guess=3.0):\n",
    "    M_e, = fsolve(expansion_ratio_eq, guess, args=(epsilon, k))\n",
    "    return M_e"
   ]
  },
  {
   "cell_type": "code",
   "execution_count": 99,
   "metadata": {},
   "outputs": [
    {
     "name": "stdout",
     "output_type": "stream",
     "text": [
      "Exit Mach number = 3.4373\n"
     ]
    }
   ],
   "source": [
    "epsilon = data['epsilon']\n",
    "M_e = solve_exit_mach(epsilon, k)\n",
    "print(f\"Exit Mach number = {M_e:.4f}\")"
   ]
  },
  {
   "cell_type": "code",
   "execution_count": 100,
   "metadata": {},
   "outputs": [],
   "source": [
    "p_2 = p_1 * (1 + ((k-1)/2) * M_e**2) **(-k/(k-1)) "
   ]
  },
  {
   "cell_type": "code",
   "execution_count": 101,
   "metadata": {},
   "outputs": [
    {
     "name": "stdout",
     "output_type": "stream",
     "text": [
      "Pressure at the exit = 67042.3800 Pa\n"
     ]
    }
   ],
   "source": [
    "print(f\"Pressure at the exit = {p_2:.4f} Pa\")"
   ]
  },
  {
   "cell_type": "code",
   "execution_count": 102,
   "metadata": {},
   "outputs": [],
   "source": [
    "p_0 = 101325\n",
    "T_0 = 288.15\n",
    "R = 8.314\n",
    "g = 9.81\n",
    "M_air = 0.029"
   ]
  },
  {
   "cell_type": "code",
   "execution_count": 103,
   "metadata": {},
   "outputs": [
    {
     "name": "stdout",
     "output_type": "stream",
     "text": [
      "Optimal height = 3477.9259 m\n"
     ]
    }
   ],
   "source": [
    "h_opt = -np.log(p_2/p_0) * (T_0 * R)/(g * M_air)\n",
    "print(f\"Optimal height = {h_opt:.4f} m\")"
   ]
  },
  {
   "cell_type": "markdown",
   "metadata": {},
   "source": [
    "## Task 4 - "
   ]
  },
  {
   "cell_type": "code",
   "execution_count": 104,
   "metadata": {},
   "outputs": [],
   "source": [
    "v_exit = np.sqrt( (2 * k / (k - 1)) * R * t_1 * (1 - (p_2 / p_1) ** ((k - 1) / k)))"
   ]
  },
  {
   "cell_type": "code",
   "execution_count": 105,
   "metadata": {},
   "outputs": [],
   "source": [
    "A_e = epsilon * A_t"
   ]
  },
  {
   "cell_type": "code",
   "execution_count": 111,
   "metadata": {},
   "outputs": [
    {
     "data": {
      "image/png": "[encoded data removed]",
      "text/plain": [
       "<Figure size 1000x500 with 2 Axes>"
      ]
     },
     "metadata": {},
     "output_type": "display_data"
    }
   ],
   "source": [
    "h_evp = data['H_evp']\n",
    "h_vals = np.linspace(0, 30000, 21)\n",
    "p_atm = p_0 * np.exp(-g * M_air * h_vals / (R * T_0))\n",
    "F_t = m_flow_rate * v_exit + (p_2 - p_atm) * A_e\n",
    "\n",
    "# Thrust factor\n",
    "thrust_factor = F_t / m_flow_rate\n",
    "\n",
    "plt.figure(figsize=(10, 5))\n",
    "\n",
    "# Thrust diagram\n",
    "plt.subplot(1, 2, 1)\n",
    "plt.plot(h_vals, F_t, marker='o', color='blue')\n",
    "plt.title(\"Thrust vs Altitude\")\n",
    "plt.xlabel(\"Altitude [m]\")\n",
    "plt.ylabel(\"Thrust [N]\")\n",
    "plt.grid(True)\n",
    "\n",
    "# Thrust factor diagram\n",
    "plt.subplot(1, 2, 2)\n",
    "plt.plot(h_vals, thrust_factor, marker='s', color='green')\n",
    "plt.title(\"Thrust-to-mass flow vs Altitude\")\n",
    "plt.xlabel(\"Altitude [m]\")\n",
    "plt.ylabel(\"Thrust Factor [N·s/kg]\")\n",
    "plt.grid(True)\n",
    "\n",
    "plt.tight_layout()\n",
    "plt.show()"
   ]
  }
 ],
 "metadata": {
  "kernelspec": {
   "display_name": "Python 3",
   "language": "python",
   "name": "python3"
  },
  "language_info": {
   "codemirror_mode": {
    "name": "ipython",
    "version": 3
   },
   "file_extension": ".py",
   "mimetype": "text/x-python",
   "name": "python",
   "nbconvert_exporter": "python",
   "pygments_lexer": "ipython3",
   "version": "3.12.7"
  }
 },
 "nbformat": 4,
 "nbformat_minor": 2
}
