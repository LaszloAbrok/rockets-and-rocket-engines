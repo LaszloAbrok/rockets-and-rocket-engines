{
 "cells": [
  {
   "cell_type": "markdown",
   "metadata": {},
   "source": [
    "# Rockets, rocket engines - Homework 1"
   ]
  },
  {
   "cell_type": "markdown",
   "metadata": {},
   "source": [
    "### Imports"
   ]
  },
  {
   "cell_type": "code",
   "execution_count": null,
   "metadata": {},
   "outputs": [],
   "source": []
  },
  {
   "cell_type": "code",
   "execution_count": 48,
   "metadata": {},
   "outputs": [],
   "source": [
    "import json\n",
    "import numpy as np\n",
    "from scipy.optimize import fsolve\n",
    "import matplotlib.pyplot as plt\n",
    "import pandas as pd"
   ]
  },
  {
   "cell_type": "code",
   "execution_count": 49,
   "metadata": {},
   "outputs": [],
   "source": [
    "with open('../data/import/data.json', 'r') as f:\n",
    "    data = json.load(f)"
   ]
  },
  {
   "cell_type": "markdown",
   "metadata": {},
   "source": [
    "## Task 1 - Characteristic velocity"
   ]
  },
  {
   "cell_type": "code",
   "execution_count": 50,
   "metadata": {},
   "outputs": [],
   "source": [
    "m_0 = data['m_0']\n",
    "m_evp = data['m_evp']\n",
    "t_muk = data['t_muk']\n",
    "\n",
    "m_flow_rate = (m_0 - m_evp) / t_muk"
   ]
  },
  {
   "cell_type": "code",
   "execution_count": 51,
   "metadata": {},
   "outputs": [
    {
     "name": "stdout",
     "output_type": "stream",
     "text": [
      "Mass flow rate = 26.8500 kg/s\n"
     ]
    }
   ],
   "source": [
    "print(f\"Mass flow rate = {m_flow_rate:.4f} kg/s\")"
   ]
  },
  {
   "cell_type": "code",
   "execution_count": 52,
   "metadata": {},
   "outputs": [],
   "source": [
    "p_1 = data['p_1']\n",
    "R = data['R']\n",
    "t_1 = data['t_1']\n",
    "k = data['k']\n",
    "\n",
    "A_t = (m_flow_rate) / ((p_1) * np.sqrt(k / (R * t_1)) * np.pow( 2/(k + 1) , (k + 1) / (2 * (k - 1)) ))"
   ]
  },
  {
   "cell_type": "code",
   "execution_count": 53,
   "metadata": {},
   "outputs": [
    {
     "name": "stdout",
     "output_type": "stream",
     "text": [
      "Area of the throat = 0.0056 m^2\n"
     ]
    }
   ],
   "source": [
    "print(f\"Area of the throat = {A_t:.4f} m^2\")"
   ]
  },
  {
   "cell_type": "code",
   "execution_count": 54,
   "metadata": {},
   "outputs": [],
   "source": [
    "characteristic_velocity =  ( p_1 * A_t ) / m_flow_rate"
   ]
  },
  {
   "cell_type": "code",
   "execution_count": 55,
   "metadata": {},
   "outputs": [
    {
     "name": "stdout",
     "output_type": "stream",
     "text": [
      "Characteristic velocity = 1465.6904 m/s\n"
     ]
    }
   ],
   "source": [
    "print(f\"Characteristic velocity = {characteristic_velocity:.4f} m/s\")"
   ]
  },
  {
   "cell_type": "markdown",
   "metadata": {},
   "source": [
    "# Task 2 - throat characteristics"
   ]
  },
  {
   "cell_type": "markdown",
   "metadata": {},
   "source": [
    "Geometric sizes"
   ]
  },
  {
   "cell_type": "markdown",
   "metadata": {},
   "source": [
    "The mass flow rate and throat area was determined in the previous task."
   ]
  },
  {
   "cell_type": "code",
   "execution_count": 56,
   "metadata": {},
   "outputs": [],
   "source": [
    "d_t = np.sqrt(4 * A_t / np.pi)"
   ]
  },
  {
   "cell_type": "code",
   "execution_count": 57,
   "metadata": {},
   "outputs": [
    {
     "name": "stdout",
     "output_type": "stream",
     "text": [
      "Diameter of the throat = 0.0846 m\n"
     ]
    }
   ],
   "source": [
    "print(f\"Diameter of the throat = {d_t:.4f} m\")"
   ]
  },
  {
   "cell_type": "markdown",
   "metadata": {},
   "source": [
    "Thermodynamic characteristics"
   ]
  },
  {
   "cell_type": "markdown",
   "metadata": {},
   "source": [
    "Using Poisson's equations, we can determine the critical temperature vlaue measured in the cross-section of nozzle."
   ]
  },
  {
   "cell_type": "code",
   "execution_count": 58,
   "metadata": {},
   "outputs": [],
   "source": [
    "t_t = 2 * t_1 / (k + 1)"
   ]
  },
  {
   "cell_type": "code",
   "execution_count": 59,
   "metadata": {},
   "outputs": [
    {
     "name": "stdout",
     "output_type": "stream",
     "text": [
      "Temperature at the throat = 2473.4389 K\n"
     ]
    }
   ],
   "source": [
    "print(f\"Temperature at the throat = {t_t:.4f} K\")"
   ]
  },
  {
   "cell_type": "markdown",
   "metadata": {},
   "source": [
    "Isentropic process pressure"
   ]
  },
  {
   "cell_type": "code",
   "execution_count": 60,
   "metadata": {},
   "outputs": [],
   "source": [
    "p_t = p_1 * np.pow( (2 / (k + 1) ) , (k / (k - 1)) )"
   ]
  },
  {
   "cell_type": "code",
   "execution_count": 61,
   "metadata": {},
   "outputs": [
    {
     "name": "stdout",
     "output_type": "stream",
     "text": [
      "Isentropic process pressure = 3937755.2917 Pa\n"
     ]
    }
   ],
   "source": [
    "print(f\"Isentropic process pressure = {p_t:.4f} Pa\")"
   ]
  },
  {
   "cell_type": "markdown",
   "metadata": {},
   "source": [
    "Density at throat"
   ]
  },
  {
   "cell_type": "code",
   "execution_count": 62,
   "metadata": {},
   "outputs": [],
   "source": [
    "ro_t = p_t / (R * t_t)"
   ]
  },
  {
   "cell_type": "code",
   "execution_count": 63,
   "metadata": {},
   "outputs": [
    {
     "name": "stdout",
     "output_type": "stream",
     "text": [
      "Density at the throat = 4.7872 kg/m^3\n"
     ]
    }
   ],
   "source": [
    "print(f\"Density at the throat = {ro_t:.4f} kg/m^3\")"
   ]
  },
  {
   "cell_type": "markdown",
   "metadata": {},
   "source": [
    "## Task 3 - exitation pressure and optimal height"
   ]
  },
  {
   "cell_type": "markdown",
   "metadata": {},
   "source": [
    "Determining exitation Mach number"
   ]
  },
  {
   "cell_type": "code",
   "execution_count": 64,
   "metadata": {},
   "outputs": [],
   "source": [
    "def expansion_ratio_eq(M, epsilon, k):\n",
    "    term1 = 1 / M\n",
    "    term2 = ((2 / (k + 1)) * (1 + ((k - 1)/2) * M**2))**((k + 1)/(2 * (k - 1)))\n",
    "    return term1 * term2 - epsilon\n",
    "\n",
    "def solve_exit_mach(epsilon, k, guess=3.0):\n",
    "    M_e, = fsolve(expansion_ratio_eq, guess, args=(epsilon, k))\n",
    "    return M_e"
   ]
  },
  {
   "cell_type": "code",
   "execution_count": 65,
   "metadata": {},
   "outputs": [
    {
     "name": "stdout",
     "output_type": "stream",
     "text": [
      "Exit Mach number = 3.4373\n"
     ]
    }
   ],
   "source": [
    "epsilon = data['epsilon']\n",
    "M_e = solve_exit_mach(epsilon, k)\n",
    "print(f\"Exit Mach number = {M_e:.4f}\")"
   ]
  },
  {
   "cell_type": "code",
   "execution_count": 66,
   "metadata": {},
   "outputs": [],
   "source": [
    "p_2 = p_1 * (1 + ((k-1)/2) * M_e**2) **(-k/(k-1)) "
   ]
  },
  {
   "cell_type": "code",
   "execution_count": 67,
   "metadata": {},
   "outputs": [
    {
     "name": "stdout",
     "output_type": "stream",
     "text": [
      "Pressure at the exit = 67042.3800 Pa\n"
     ]
    }
   ],
   "source": [
    "print(f\"Pressure at the exit = {p_2:.4f} Pa\")"
   ]
  },
  {
   "cell_type": "code",
   "execution_count": 68,
   "metadata": {},
   "outputs": [],
   "source": [
    "p_0 = 101325\n",
    "T_0 = 288.15 \n",
    "L = 0.0065\n",
    "g = 9.81\n",
    "M_air = 0.02896\n",
    "R_0 = 8.31446"
   ]
  },
  {
   "cell_type": "code",
   "execution_count": 69,
   "metadata": {},
   "outputs": [
    {
     "name": "stdout",
     "output_type": "stream",
     "text": [
      "Optimal height = 3349.6154 m\n"
     ]
    }
   ],
   "source": [
    "h_opt = (T_0 / L) * (1 - (p_2 / p_0)**(R_0 * L / (g * M_air)))\n",
    "print(f\"Optimal height = {h_opt:.4f} m\")\n"
   ]
  },
  {
   "cell_type": "markdown",
   "metadata": {},
   "source": [
    "## Task 4 - thrust and thrust factor"
   ]
  },
  {
   "cell_type": "code",
   "execution_count": 70,
   "metadata": {},
   "outputs": [
    {
     "name": "stdout",
     "output_type": "stream",
     "text": [
      "Area of the exit = 0.0675 m^2\n",
      "Thrust at sea level = 62250.0000 N\n",
      "Pressure = 67042.3800 Pa\n",
      "Mass flow rate = 26.8500 kg/s\n",
      "Effective exhaust velocity = 2404.5747 m/s\n"
     ]
    },
    {
     "data": {
      "text/html": [
       "<div>\n",
       "<style scoped>\n",
       "    .dataframe tbody tr th:only-of-type {\n",
       "        vertical-align: middle;\n",
       "    }\n",
       "\n",
       "    .dataframe tbody tr th {\n",
       "        vertical-align: top;\n",
       "    }\n",
       "\n",
       "    .dataframe thead th {\n",
       "        text-align: right;\n",
       "    }\n",
       "</style>\n",
       "<table border=\"1\" class=\"dataframe\">\n",
       "  <thead>\n",
       "    <tr style=\"text-align: right;\">\n",
       "      <th></th>\n",
       "      <th>Altitude [m]</th>\n",
       "      <th>Thrust [kN]</th>\n",
       "      <th>Thrust coefficient</th>\n",
       "    </tr>\n",
       "  </thead>\n",
       "  <tbody>\n",
       "    <tr>\n",
       "      <th>0</th>\n",
       "      <td>0.000000</td>\n",
       "      <td>62.250000</td>\n",
       "      <td>1.581805</td>\n",
       "    </tr>\n",
       "    <tr>\n",
       "      <th>1</th>\n",
       "      <td>157.894737</td>\n",
       "      <td>62.377021</td>\n",
       "      <td>1.585032</td>\n",
       "    </tr>\n",
       "    <tr>\n",
       "      <th>2</th>\n",
       "      <td>315.789474</td>\n",
       "      <td>62.502125</td>\n",
       "      <td>1.588211</td>\n",
       "    </tr>\n",
       "    <tr>\n",
       "      <th>3</th>\n",
       "      <td>473.684211</td>\n",
       "      <td>62.625332</td>\n",
       "      <td>1.591342</td>\n",
       "    </tr>\n",
       "    <tr>\n",
       "      <th>4</th>\n",
       "      <td>631.578947</td>\n",
       "      <td>62.746666</td>\n",
       "      <td>1.594425</td>\n",
       "    </tr>\n",
       "    <tr>\n",
       "      <th>5</th>\n",
       "      <td>789.473684</td>\n",
       "      <td>62.866148</td>\n",
       "      <td>1.597461</td>\n",
       "    </tr>\n",
       "    <tr>\n",
       "      <th>6</th>\n",
       "      <td>947.368421</td>\n",
       "      <td>62.983799</td>\n",
       "      <td>1.600451</td>\n",
       "    </tr>\n",
       "    <tr>\n",
       "      <th>7</th>\n",
       "      <td>1105.263158</td>\n",
       "      <td>63.099642</td>\n",
       "      <td>1.603394</td>\n",
       "    </tr>\n",
       "    <tr>\n",
       "      <th>8</th>\n",
       "      <td>1263.157895</td>\n",
       "      <td>63.213697</td>\n",
       "      <td>1.606293</td>\n",
       "    </tr>\n",
       "    <tr>\n",
       "      <th>9</th>\n",
       "      <td>1421.052632</td>\n",
       "      <td>63.325987</td>\n",
       "      <td>1.609146</td>\n",
       "    </tr>\n",
       "    <tr>\n",
       "      <th>10</th>\n",
       "      <td>1578.947368</td>\n",
       "      <td>63.436531</td>\n",
       "      <td>1.611955</td>\n",
       "    </tr>\n",
       "    <tr>\n",
       "      <th>11</th>\n",
       "      <td>1736.842105</td>\n",
       "      <td>63.545351</td>\n",
       "      <td>1.614720</td>\n",
       "    </tr>\n",
       "    <tr>\n",
       "      <th>12</th>\n",
       "      <td>1894.736842</td>\n",
       "      <td>63.652467</td>\n",
       "      <td>1.617442</td>\n",
       "    </tr>\n",
       "    <tr>\n",
       "      <th>13</th>\n",
       "      <td>2052.631579</td>\n",
       "      <td>63.757900</td>\n",
       "      <td>1.620121</td>\n",
       "    </tr>\n",
       "    <tr>\n",
       "      <th>14</th>\n",
       "      <td>2210.526316</td>\n",
       "      <td>63.861670</td>\n",
       "      <td>1.622758</td>\n",
       "    </tr>\n",
       "    <tr>\n",
       "      <th>15</th>\n",
       "      <td>2368.421053</td>\n",
       "      <td>63.963798</td>\n",
       "      <td>1.625353</td>\n",
       "    </tr>\n",
       "    <tr>\n",
       "      <th>16</th>\n",
       "      <td>2526.315789</td>\n",
       "      <td>64.064302</td>\n",
       "      <td>1.627907</td>\n",
       "    </tr>\n",
       "    <tr>\n",
       "      <th>17</th>\n",
       "      <td>2684.210526</td>\n",
       "      <td>64.163204</td>\n",
       "      <td>1.630420</td>\n",
       "    </tr>\n",
       "    <tr>\n",
       "      <th>18</th>\n",
       "      <td>2842.105263</td>\n",
       "      <td>64.260522</td>\n",
       "      <td>1.632893</td>\n",
       "    </tr>\n",
       "    <tr>\n",
       "      <th>19</th>\n",
       "      <td>3000.000000</td>\n",
       "      <td>64.356276</td>\n",
       "      <td>1.635326</td>\n",
       "    </tr>\n",
       "  </tbody>\n",
       "</table>\n",
       "</div>"
      ],
      "text/plain": [
       "    Altitude [m]  Thrust [kN]  Thrust coefficient\n",
       "0       0.000000    62.250000            1.581805\n",
       "1     157.894737    62.377021            1.585032\n",
       "2     315.789474    62.502125            1.588211\n",
       "3     473.684211    62.625332            1.591342\n",
       "4     631.578947    62.746666            1.594425\n",
       "5     789.473684    62.866148            1.597461\n",
       "6     947.368421    62.983799            1.600451\n",
       "7    1105.263158    63.099642            1.603394\n",
       "8    1263.157895    63.213697            1.606293\n",
       "9    1421.052632    63.325987            1.609146\n",
       "10   1578.947368    63.436531            1.611955\n",
       "11   1736.842105    63.545351            1.614720\n",
       "12   1894.736842    63.652467            1.617442\n",
       "13   2052.631579    63.757900            1.620121\n",
       "14   2210.526316    63.861670            1.622758\n",
       "15   2368.421053    63.963798            1.625353\n",
       "16   2526.315789    64.064302            1.627907\n",
       "17   2684.210526    64.163204            1.630420\n",
       "18   2842.105263    64.260522            1.632893\n",
       "19   3000.000000    64.356276            1.635326"
      ]
     },
     "metadata": {},
     "output_type": "display_data"
    },
    {
     "data": {
      "image/png": "[encoded data removed]",
      "text/plain": [
       "<Figure size 1200x500 with 2 Axes>"
      ]
     },
     "metadata": {},
     "output_type": "display_data"
    }
   ],
   "source": [
    "H_0 = data[\"H_0\"]\n",
    "H_evp = data[\"H_evp\"]\n",
    "heights = np.linspace(H_0, H_evp, 20)\n",
    "\n",
    "A_2 = A_t * epsilon\n",
    "F_t_h0 = data[\"F_t_h0\"]\n",
    "print(f\"Area of the exit = {A_2:.4f} m^2\")\n",
    "print(f\"Thrust at sea level = {F_t_h0:.4f} N\")\n",
    "print(f\"Pressure = {p_2:.4f} Pa\" )\n",
    "print(f\"Mass flow rate = {m_flow_rate:.4f} kg/s\")\n",
    "\n",
    "w = (F_t_h0 - (p_2 - p_0) * A_2) / m_flow_rate\n",
    "print(f\"Effective exhaust velocity = {w:.4f} m/s\")\n",
    "\n",
    "def p_at_height(h):\n",
    "    return p_0 * (1 - L * h / T_0) ** (g * M_air / (R_0 * L))\n",
    "\n",
    "thrusts = []\n",
    "thrust_coeffs = []\n",
    "\n",
    "for h in heights:\n",
    "    p_current = p_at_height(h)\n",
    "    thrust = m_flow_rate * w + (p_2 - p_current) * A_2\n",
    "    c_f = thrust / (p_1 * A_t)\n",
    "    thrusts.append(thrust/1000)\n",
    "    thrust_coeffs.append(c_f)\n",
    "\n",
    "df = pd.DataFrame({\n",
    "    \"Altitude [m]\": heights,\n",
    "    \"Thrust [kN]\": thrusts,\n",
    "    \"Thrust coefficient\": thrust_coeffs\n",
    "})\n",
    "\n",
    "display(df)\n",
    "\n",
    "plt.figure(figsize=(12, 5))\n",
    "\n",
    "plt.subplot(1, 2, 1)\n",
    "plt.plot(heights, thrusts, marker='o')\n",
    "plt.xlabel(\"Altitude [m]\")\n",
    "plt.ylabel(\"Thrust [kN]\")\n",
    "plt.title(\"Thrust vs Altitude\")\n",
    "plt.grid(True)\n",
    "\n",
    "plt.subplot(1, 2, 2)\n",
    "plt.plot(heights, thrust_coeffs, marker='o', color='orange')\n",
    "plt.xlabel(\"Altitude [m]\")\n",
    "plt.ylabel(\"Thrust coefficient\")\n",
    "plt.title(\"Thrust Coefficient vs Altitude\")\n",
    "plt.grid(True)\n",
    "plt.savefig(\"../doc/latex/images/plots.png\")\n",
    "\n",
    "plt.tight_layout()\n",
    "plt.show()"
   ]
  },
  {
   "cell_type": "code",
   "execution_count": 71,
   "metadata": {},
   "outputs": [],
   "source": [
    "df.to_csv('../data/df.csv', index=False)"
   ]
  }
 ],
 "metadata": {
  "kernelspec": {
   "display_name": "Python 3",
   "language": "python",
   "name": "python3"
  },
  "language_info": {
   "codemirror_mode": {
    "name": "ipython",
    "version": 3
   },
   "file_extension": ".py",
   "mimetype": "text/x-python",
   "name": "python",
   "nbconvert_exporter": "python",
   "pygments_lexer": "ipython3",
   "version": "3.12.7"
  }
 },
 "nbformat": 4,
 "nbformat_minor": 2
}
