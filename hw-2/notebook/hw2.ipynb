{
 "cells": [
  {
   "cell_type": "markdown",
   "metadata": {},
   "source": [
    "# Rockets, rocket engines - Homework 1"
   ]
  },
  {
   "cell_type": "markdown",
   "metadata": {},
   "source": [
    "### Imports"
   ]
  },
  {
   "cell_type": "code",
   "execution_count": 1,
   "metadata": {},
   "outputs": [],
   "source": [
    "import numpy as np\n",
    "import pandas as pd"
   ]
  },
  {
   "cell_type": "markdown",
   "metadata": {},
   "source": [
    "### Load datas"
   ]
  },
  {
   "cell_type": "code",
   "execution_count": 2,
   "metadata": {},
   "outputs": [
    {
     "data": {
      "text/html": [
       "<div>\n",
       "<style scoped>\n",
       "    .dataframe tbody tr th:only-of-type {\n",
       "        vertical-align: middle;\n",
       "    }\n",
       "\n",
       "    .dataframe tbody tr th {\n",
       "        vertical-align: top;\n",
       "    }\n",
       "\n",
       "    .dataframe thead th {\n",
       "        text-align: right;\n",
       "    }\n",
       "</style>\n",
       "<table border=\"1\" class=\"dataframe\">\n",
       "  <thead>\n",
       "    <tr style=\"text-align: right;\">\n",
       "      <th></th>\n",
       "      <th>stage</th>\n",
       "      <th>m_0_t</th>\n",
       "      <th>m_prop_t</th>\n",
       "      <th>vel_out_m_s</th>\n",
       "    </tr>\n",
       "  </thead>\n",
       "  <tbody>\n",
       "    <tr>\n",
       "      <th>0</th>\n",
       "      <td>1</td>\n",
       "      <td>458900</td>\n",
       "      <td>428300</td>\n",
       "      <td>2830</td>\n",
       "    </tr>\n",
       "    <tr>\n",
       "      <th>1</th>\n",
       "      <td>2</td>\n",
       "      <td>168300</td>\n",
       "      <td>157300</td>\n",
       "      <td>3140</td>\n",
       "    </tr>\n",
       "    <tr>\n",
       "      <th>2</th>\n",
       "      <td>3</td>\n",
       "      <td>50100</td>\n",
       "      <td>46600</td>\n",
       "      <td>3190</td>\n",
       "    </tr>\n",
       "  </tbody>\n",
       "</table>\n",
       "</div>"
      ],
      "text/plain": [
       "   stage   m_0_t  m_prop_t  vel_out_m_s\n",
       "0      1  458900    428300         2830\n",
       "1      2  168300    157300         3140\n",
       "2      3   50100     46600         3190"
      ]
     },
     "metadata": {},
     "output_type": "display_data"
    }
   ],
   "source": [
    "stage_df = pd.read_csv('../data/import/data-1.csv')\n",
    "display(stage_df)"
   ]
  },
  {
   "cell_type": "code",
   "execution_count": 3,
   "metadata": {},
   "outputs": [
    {
     "data": {
      "text/html": [
       "<div>\n",
       "<style scoped>\n",
       "    .dataframe tbody tr th:only-of-type {\n",
       "        vertical-align: middle;\n",
       "    }\n",
       "\n",
       "    .dataframe tbody tr th {\n",
       "        vertical-align: top;\n",
       "    }\n",
       "\n",
       "    .dataframe thead th {\n",
       "        text-align: right;\n",
       "    }\n",
       "</style>\n",
       "<table border=\"1\" class=\"dataframe\">\n",
       "  <thead>\n",
       "    <tr style=\"text-align: right;\">\n",
       "      <th></th>\n",
       "      <th>component</th>\n",
       "      <th>m_t</th>\n",
       "    </tr>\n",
       "  </thead>\n",
       "  <tbody>\n",
       "    <tr>\n",
       "      <th>0</th>\n",
       "      <td>payload</td>\n",
       "      <td>22000</td>\n",
       "    </tr>\n",
       "  </tbody>\n",
       "</table>\n",
       "</div>"
      ],
      "text/plain": [
       "  component    m_t\n",
       "0   payload  22000"
      ]
     },
     "metadata": {},
     "output_type": "display_data"
    },
    {
     "name": "stdout",
     "output_type": "stream",
     "text": [
      "22000\n"
     ]
    }
   ],
   "source": [
    "payload_df = pd.read_csv('../data/import/data-2.csv')\n",
    "display(payload_df)\n",
    "payload_mass = payload_df.loc[payload_df[\"component\"] == \"payload\", \"m_t\"].values[0]\n",
    "print(payload_mass)"
   ]
  },
  {
   "cell_type": "markdown",
   "metadata": {},
   "source": [
    "## 1. How much Δ𝑣 accelaration can be achived with each stage?"
   ]
  },
  {
   "cell_type": "code",
   "execution_count": 4,
   "metadata": {},
   "outputs": [],
   "source": [
    "def delta_v(we, m_0, m_f):\n",
    "     return we * np.log(m_0 / m_f)"
   ]
  },
  {
   "cell_type": "code",
   "execution_count": 5,
   "metadata": {},
   "outputs": [],
   "source": [
    "stage_df[\"m_struct_t\"] = stage_df[\"m_0_t\"] - stage_df[\"m_prop_t\"]"
   ]
  },
  {
   "cell_type": "code",
   "execution_count": 6,
   "metadata": {},
   "outputs": [
    {
     "data": {
      "text/html": [
       "<div>\n",
       "<style scoped>\n",
       "    .dataframe tbody tr th:only-of-type {\n",
       "        vertical-align: middle;\n",
       "    }\n",
       "\n",
       "    .dataframe tbody tr th {\n",
       "        vertical-align: top;\n",
       "    }\n",
       "\n",
       "    .dataframe thead th {\n",
       "        text-align: right;\n",
       "    }\n",
       "</style>\n",
       "<table border=\"1\" class=\"dataframe\">\n",
       "  <thead>\n",
       "    <tr style=\"text-align: right;\">\n",
       "      <th></th>\n",
       "      <th>stage</th>\n",
       "      <th>m_0_t</th>\n",
       "      <th>m_prop_t</th>\n",
       "      <th>vel_out_m_s</th>\n",
       "      <th>m_struct_t</th>\n",
       "    </tr>\n",
       "  </thead>\n",
       "  <tbody>\n",
       "    <tr>\n",
       "      <th>0</th>\n",
       "      <td>1</td>\n",
       "      <td>458900</td>\n",
       "      <td>428300</td>\n",
       "      <td>2830</td>\n",
       "      <td>30600</td>\n",
       "    </tr>\n",
       "    <tr>\n",
       "      <th>1</th>\n",
       "      <td>2</td>\n",
       "      <td>168300</td>\n",
       "      <td>157300</td>\n",
       "      <td>3140</td>\n",
       "      <td>11000</td>\n",
       "    </tr>\n",
       "    <tr>\n",
       "      <th>2</th>\n",
       "      <td>3</td>\n",
       "      <td>50100</td>\n",
       "      <td>46600</td>\n",
       "      <td>3190</td>\n",
       "      <td>3500</td>\n",
       "    </tr>\n",
       "  </tbody>\n",
       "</table>\n",
       "</div>"
      ],
      "text/plain": [
       "   stage   m_0_t  m_prop_t  vel_out_m_s  m_struct_t\n",
       "0      1  458900    428300         2830       30600\n",
       "1      2  168300    157300         3140       11000\n",
       "2      3   50100     46600         3190        3500"
      ]
     },
     "metadata": {},
     "output_type": "display_data"
    }
   ],
   "source": [
    "display(stage_df)"
   ]
  },
  {
   "cell_type": "code",
   "execution_count": 7,
   "metadata": {},
   "outputs": [],
   "source": [
    "upper_stages_masses = []\n",
    "for i in range(len(stage_df)):\n",
    "    upper_stages_masses.append(sum(stage_df.loc[i+1:, \"m_0_t\"]))"
   ]
  },
  {
   "cell_type": "code",
   "execution_count": 8,
   "metadata": {},
   "outputs": [
    {
     "data": {
      "text/plain": [
       "[218400, 50100, 0]"
      ]
     },
     "metadata": {},
     "output_type": "display_data"
    }
   ],
   "source": [
    "display(upper_stages_masses)"
   ]
  },
  {
   "cell_type": "code",
   "execution_count": 9,
   "metadata": {},
   "outputs": [
    {
     "data": {
      "text/html": [
       "<div>\n",
       "<style scoped>\n",
       "    .dataframe tbody tr th:only-of-type {\n",
       "        vertical-align: middle;\n",
       "    }\n",
       "\n",
       "    .dataframe tbody tr th {\n",
       "        vertical-align: top;\n",
       "    }\n",
       "\n",
       "    .dataframe thead th {\n",
       "        text-align: right;\n",
       "    }\n",
       "</style>\n",
       "<table border=\"1\" class=\"dataframe\">\n",
       "  <thead>\n",
       "    <tr style=\"text-align: right;\">\n",
       "      <th></th>\n",
       "      <th>stage</th>\n",
       "      <th>m_0_t</th>\n",
       "      <th>m_prop_t</th>\n",
       "      <th>vel_out_m_s</th>\n",
       "      <th>m_struct_t</th>\n",
       "      <th>m_final_t</th>\n",
       "    </tr>\n",
       "  </thead>\n",
       "  <tbody>\n",
       "    <tr>\n",
       "      <th>0</th>\n",
       "      <td>1</td>\n",
       "      <td>458900</td>\n",
       "      <td>428300</td>\n",
       "      <td>2830</td>\n",
       "      <td>30600</td>\n",
       "      <td>271000.0</td>\n",
       "    </tr>\n",
       "    <tr>\n",
       "      <th>1</th>\n",
       "      <td>2</td>\n",
       "      <td>168300</td>\n",
       "      <td>157300</td>\n",
       "      <td>3140</td>\n",
       "      <td>11000</td>\n",
       "      <td>83100.0</td>\n",
       "    </tr>\n",
       "    <tr>\n",
       "      <th>2</th>\n",
       "      <td>3</td>\n",
       "      <td>50100</td>\n",
       "      <td>46600</td>\n",
       "      <td>3190</td>\n",
       "      <td>3500</td>\n",
       "      <td>25500.0</td>\n",
       "    </tr>\n",
       "  </tbody>\n",
       "</table>\n",
       "</div>"
      ],
      "text/plain": [
       "   stage   m_0_t  m_prop_t  vel_out_m_s  m_struct_t  m_final_t\n",
       "0      1  458900    428300         2830       30600   271000.0\n",
       "1      2  168300    157300         3140       11000    83100.0\n",
       "2      3   50100     46600         3190        3500    25500.0"
      ]
     },
     "metadata": {},
     "output_type": "display_data"
    }
   ],
   "source": [
    "for i in range(len(stage_df)):\n",
    "    stage_df.loc[i, \"m_final_t\"] = upper_stages_masses[i] + payload_mass + stage_df.loc[i, \"m_struct_t\"]\n",
    "\n",
    "display(stage_df)"
   ]
  },
  {
   "cell_type": "code",
   "execution_count": 10,
   "metadata": {},
   "outputs": [
    {
     "data": {
      "text/html": [
       "<div>\n",
       "<style scoped>\n",
       "    .dataframe tbody tr th:only-of-type {\n",
       "        vertical-align: middle;\n",
       "    }\n",
       "\n",
       "    .dataframe tbody tr th {\n",
       "        vertical-align: top;\n",
       "    }\n",
       "\n",
       "    .dataframe thead th {\n",
       "        text-align: right;\n",
       "    }\n",
       "</style>\n",
       "<table border=\"1\" class=\"dataframe\">\n",
       "  <thead>\n",
       "    <tr style=\"text-align: right;\">\n",
       "      <th></th>\n",
       "      <th>stage</th>\n",
       "      <th>m_0_t</th>\n",
       "      <th>m_prop_t</th>\n",
       "      <th>vel_out_m_s</th>\n",
       "      <th>m_struct_t</th>\n",
       "      <th>m_final_t</th>\n",
       "      <th>delta_v</th>\n",
       "    </tr>\n",
       "  </thead>\n",
       "  <tbody>\n",
       "    <tr>\n",
       "      <th>0</th>\n",
       "      <td>1</td>\n",
       "      <td>458900</td>\n",
       "      <td>428300</td>\n",
       "      <td>2830</td>\n",
       "      <td>30600</td>\n",
       "      <td>271000.0</td>\n",
       "      <td>1490.599206</td>\n",
       "    </tr>\n",
       "    <tr>\n",
       "      <th>1</th>\n",
       "      <td>2</td>\n",
       "      <td>168300</td>\n",
       "      <td>157300</td>\n",
       "      <td>3140</td>\n",
       "      <td>11000</td>\n",
       "      <td>83100.0</td>\n",
       "      <td>2215.908674</td>\n",
       "    </tr>\n",
       "    <tr>\n",
       "      <th>2</th>\n",
       "      <td>3</td>\n",
       "      <td>50100</td>\n",
       "      <td>46600</td>\n",
       "      <td>3190</td>\n",
       "      <td>3500</td>\n",
       "      <td>25500.0</td>\n",
       "      <td>2154.342753</td>\n",
       "    </tr>\n",
       "  </tbody>\n",
       "</table>\n",
       "</div>"
      ],
      "text/plain": [
       "   stage   m_0_t  m_prop_t  vel_out_m_s  m_struct_t  m_final_t      delta_v\n",
       "0      1  458900    428300         2830       30600   271000.0  1490.599206\n",
       "1      2  168300    157300         3140       11000    83100.0  2215.908674\n",
       "2      3   50100     46600         3190        3500    25500.0  2154.342753"
      ]
     },
     "metadata": {},
     "output_type": "display_data"
    }
   ],
   "source": [
    "for i in range(len(stage_df)):\n",
    "    stage_df.loc[i, \"delta_v\"] = delta_v(stage_df.loc[i, \"vel_out_m_s\"], stage_df.loc[i, \"m_0_t\"], stage_df.loc[i, \"m_final_t\"])\n",
    "\n",
    "display(stage_df)"
   ]
  },
  {
   "cell_type": "code",
   "execution_count": 11,
   "metadata": {},
   "outputs": [
    {
     "data": {
      "text/plain": [
       "0    1490.599206\n",
       "1    2215.908674\n",
       "2    2154.342753\n",
       "Name: delta_v, dtype: float64"
      ]
     },
     "metadata": {},
     "output_type": "display_data"
    }
   ],
   "source": [
    "display(stage_df['delta_v']) # m/s"
   ]
  },
  {
   "cell_type": "code",
   "execution_count": 12,
   "metadata": {},
   "outputs": [
    {
     "name": "stdout",
     "output_type": "stream",
     "text": [
      "Total mass with propellant 677300 kg\n",
      "Total mass with propellant 677.3 t\n"
     ]
    }
   ],
   "source": [
    "m_sum_prop_with_struct = stage_df[\"m_prop_t\"].sum() + stage_df[\"m_struct_t\"].sum()\n",
    "print(f\"Total mass with propellant {m_sum_prop_with_struct} kg\") # kg\n",
    "print(f\"Total mass with propellant {m_sum_prop_with_struct / 1000} t\") # t"
   ]
  },
  {
   "cell_type": "markdown",
   "metadata": {},
   "source": [
    "## 2. Structural coefficient"
   ]
  },
  {
   "cell_type": "code",
   "execution_count": 13,
   "metadata": {},
   "outputs": [],
   "source": [
    "def structural_coefficient(m_prop_param, m_struct_param):\n",
    "    return m_struct_param / (m_struct_param + m_prop_param)"
   ]
  },
  {
   "cell_type": "code",
   "execution_count": 14,
   "metadata": {},
   "outputs": [],
   "source": [
    "stage_df[\"struct_coeff\"] = 0.0"
   ]
  },
  {
   "cell_type": "code",
   "execution_count": 15,
   "metadata": {},
   "outputs": [],
   "source": [
    "for i in range(len(stage_df)):\n",
    "    stage_df.loc[i, \"struct_coeff\"] = structural_coefficient(stage_df.loc[i, \"m_prop_t\"], stage_df.loc[i, \"m_struct_t\"])"
   ]
  },
  {
   "cell_type": "code",
   "execution_count": 16,
   "metadata": {},
   "outputs": [
    {
     "data": {
      "text/html": [
       "<div>\n",
       "<style scoped>\n",
       "    .dataframe tbody tr th:only-of-type {\n",
       "        vertical-align: middle;\n",
       "    }\n",
       "\n",
       "    .dataframe tbody tr th {\n",
       "        vertical-align: top;\n",
       "    }\n",
       "\n",
       "    .dataframe thead th {\n",
       "        text-align: right;\n",
       "    }\n",
       "</style>\n",
       "<table border=\"1\" class=\"dataframe\">\n",
       "  <thead>\n",
       "    <tr style=\"text-align: right;\">\n",
       "      <th></th>\n",
       "      <th>stage</th>\n",
       "      <th>struct_coeff</th>\n",
       "    </tr>\n",
       "  </thead>\n",
       "  <tbody>\n",
       "    <tr>\n",
       "      <th>0</th>\n",
       "      <td>1</td>\n",
       "      <td>0.066681</td>\n",
       "    </tr>\n",
       "    <tr>\n",
       "      <th>1</th>\n",
       "      <td>2</td>\n",
       "      <td>0.065359</td>\n",
       "    </tr>\n",
       "    <tr>\n",
       "      <th>2</th>\n",
       "      <td>3</td>\n",
       "      <td>0.069860</td>\n",
       "    </tr>\n",
       "  </tbody>\n",
       "</table>\n",
       "</div>"
      ],
      "text/plain": [
       "   stage  struct_coeff\n",
       "0      1      0.066681\n",
       "1      2      0.065359\n",
       "2      3      0.069860"
      ]
     },
     "metadata": {},
     "output_type": "display_data"
    }
   ],
   "source": [
    "display(stage_df[[\"stage\", \"struct_coeff\"]])"
   ]
  },
  {
   "cell_type": "markdown",
   "metadata": {},
   "source": [
    "## 3. Final velocity"
   ]
  },
  {
   "cell_type": "code",
   "execution_count": 17,
   "metadata": {},
   "outputs": [
    {
     "data": {
      "text/plain": [
       "np.float64(5860.8506337930385)"
      ]
     },
     "metadata": {},
     "output_type": "display_data"
    }
   ],
   "source": [
    "delta_v_sum = stage_df[\"delta_v\"].sum()\n",
    "display(delta_v_sum)"
   ]
  },
  {
   "cell_type": "code",
   "execution_count": 18,
   "metadata": {},
   "outputs": [],
   "source": [
    "v_earth = 465 # m/s\n",
    "deg = 45.95"
   ]
  },
  {
   "cell_type": "code",
   "execution_count": 19,
   "metadata": {},
   "outputs": [],
   "source": [
    "v_final = delta_v_sum + v_earth * np.cos(np.radians(deg))"
   ]
  },
  {
   "cell_type": "code",
   "execution_count": 20,
   "metadata": {},
   "outputs": [
    {
     "name": "stdout",
     "output_type": "stream",
     "text": [
      "Final velocity: 6184.158553238991 m/s\n",
      "Final velocity: 6.184158553238991 km/s\n"
     ]
    }
   ],
   "source": [
    "print(f\"Final velocity: {v_final} m/s\")\n",
    "print(f\"Final velocity: {v_final / 1000} km/s\")"
   ]
  },
  {
   "cell_type": "markdown",
   "metadata": {},
   "source": [
    "## 4. Height"
   ]
  },
  {
   "cell_type": "code",
   "execution_count": 21,
   "metadata": {},
   "outputs": [
    {
     "name": "stdout",
     "output_type": "stream",
     "text": [
      "6184.158553238991\n"
     ]
    }
   ],
   "source": [
    "g = 9.81\n",
    "GM = 3.986e14 # m^3/s^2\n",
    "R = 6.371e6 # m\n",
    "print(v_final)"
   ]
  },
  {
   "cell_type": "code",
   "execution_count": 22,
   "metadata": {},
   "outputs": [
    {
     "name": "stdout",
     "output_type": "stream",
     "text": [
      "Final height: 4051599.8121241033 m\n",
      "Final height: 4051.599812124103 km\n"
     ]
    }
   ],
   "source": [
    "h = ((GM)/(v_final**2)) - R\n",
    "print(f\"Final height: {h} m\")\n",
    "print(f\"Final height: {h / 1000} km\")"
   ]
  },
  {
   "cell_type": "code",
   "execution_count": 38,
   "metadata": {},
   "outputs": [
    {
     "name": "stdout",
     "output_type": "stream",
     "text": [
      "Final height: 1949226.1473801716 m\n",
      "Final height: 1949.2261473801716 km\n"
     ]
    }
   ],
   "source": [
    "h = v_final**2 / (2 * g)\n",
    "print(f\"Final height: {h} m\")\n",
    "print(f\"Final height: {h / 1000} km\")"
   ]
  },
  {
   "cell_type": "markdown",
   "metadata": {},
   "source": [
    "# Single stage javítás"
   ]
  },
  {
   "cell_type": "code",
   "execution_count": 23,
   "metadata": {},
   "outputs": [
    {
     "name": "stdout",
     "output_type": "stream",
     "text": [
      "z: 6.279292104874458\n"
     ]
    }
   ],
   "source": [
    "w_s_stage = 3190.0 # m/s\n",
    "z = np.exp(delta_v_sum / w_s_stage)\n",
    "print(f\"z: {z}\")"
   ]
  },
  {
   "cell_type": "code",
   "execution_count": 24,
   "metadata": {},
   "outputs": [
    {
     "name": "stdout",
     "output_type": "stream",
     "text": [
      "Single stage mass: 138144.42630723809 kg\n",
      "Single stage mass: 138.1444263072381 t\n",
      "Structural to propellant ratio: 0.0713381841189497\n",
      "Propellant mass: 108410.6102339228 kg\n",
      "Propellant mass: 108.4106102339228 t\n",
      "Structural mass: 7733.816073315291 kg\n",
      "Structural mass: 7.733816073315291 t\n",
      "3 stage structural mass: 45100 kg\n",
      "3 stage structural mass: 45.1 t\n",
      "Ratio: 0.17148150938614837\n"
     ]
    }
   ],
   "source": [
    "m0_single_stage = z * payload_mass\n",
    "print(f\"Single stage mass: {m0_single_stage} kg\")\n",
    "print(f\"Single stage mass: {m0_single_stage / 1000} t\")\n",
    "\n",
    "# A háromfokozatú rakéta alapján vett szerkezeti : hajtóanyag arány\n",
    "struct_to_prop_ratio_ref = stage_df[\"m_struct_t\"].sum() / stage_df[\"m_prop_t\"].sum()\n",
    "print(f\"Structural to propellant ratio: {struct_to_prop_ratio_ref}\")\n",
    "\n",
    "# Hajtóanyag tömeg (propellant) az arány alapján\n",
    "m_prop_single_stage = (m0_single_stage -payload_mass) / (1 + struct_to_prop_ratio_ref)\n",
    "print(f\"Propellant mass: {m_prop_single_stage} kg\")\n",
    "print(f\"Propellant mass: {m_prop_single_stage / 1000} t\")\n",
    "\n",
    "# Szerkezeti tömeg (strukturális)\n",
    "m_struct_single_stage = m0_single_stage - payload_mass - m_prop_single_stage\n",
    "print(f\"Structural mass: {m_struct_single_stage} kg\")\n",
    "print(f\"Structural mass: {m_struct_single_stage / 1000} t\")\n",
    "\n",
    "# 3 stage structural mass\n",
    "m_struct_3_stage = stage_df[\"m_struct_t\"].sum()\n",
    "print(f\"3 stage structural mass: {m_struct_3_stage} kg\")\n",
    "print(f\"3 stage structural mass: {m_struct_3_stage / 1000} t\")\n",
    "\n",
    "# 3 stage and single stage ratio\n",
    "ratio =  m_struct_single_stage / m_struct_3_stage\n",
    "print(f\"Ratio: {ratio}\")"
   ]
  },
  {
   "cell_type": "markdown",
   "metadata": {},
   "source": [
    "induló tömeg"
   ]
  },
  {
   "cell_type": "code",
   "execution_count": 25,
   "metadata": {},
   "outputs": [
    {
     "name": "stdout",
     "output_type": "stream",
     "text": [
      "Initial mass of single stage: 138144.42630723809 kg\n",
      "Initial mass of single stage: 138.1444263072381 t\n"
     ]
    }
   ],
   "source": [
    "m_initial_single_stage = payload_mass * z\n",
    "print(f\"Initial mass of single stage: {m_initial_single_stage} kg\")\n",
    "print(f\"Initial mass of single stage: {m_initial_single_stage / 1000} t\")"
   ]
  },
  {
   "cell_type": "markdown",
   "metadata": {},
   "source": [
    "hajtóanyag tömeg"
   ]
  },
  {
   "cell_type": "code",
   "execution_count": 26,
   "metadata": {},
   "outputs": [
    {
     "name": "stdout",
     "output_type": "stream",
     "text": [
      "Propellant mass of single stage: 116144.42630723809 kg\n",
      "Propellant mass of single stage: 116.14442630723809 t\n"
     ]
    }
   ],
   "source": [
    "m_prop_single_stage = m_initial_single_stage * (1 - 1 / z)\n",
    "print(f\"Propellant mass of single stage: {m_prop_single_stage} kg\")\n",
    "print(f\"Propellant mass of single stage: {m_prop_single_stage / 1000} t\")"
   ]
  },
  {
   "cell_type": "markdown",
   "metadata": {},
   "source": [
    "## 5. Single stage old solution"
   ]
  },
  {
   "cell_type": "code",
   "execution_count": 27,
   "metadata": {},
   "outputs": [],
   "source": [
    "w_s_stage = 3190.0 # m/s"
   ]
  },
  {
   "cell_type": "code",
   "execution_count": 28,
   "metadata": {},
   "outputs": [
    {
     "name": "stdout",
     "output_type": "stream",
     "text": [
      "total velocity: 5860.8506337930385 m/s\n"
     ]
    }
   ],
   "source": [
    "print(f\"total velocity: {delta_v_sum} m/s\")"
   ]
  },
  {
   "cell_type": "code",
   "execution_count": 29,
   "metadata": {},
   "outputs": [
    {
     "data": {
      "text/plain": [
       "np.float64(6.279292104874458)"
      ]
     },
     "metadata": {},
     "output_type": "display_data"
    }
   ],
   "source": [
    "z = np.exp(delta_v_sum / w_s_stage)\n",
    "display(z)"
   ]
  },
  {
   "cell_type": "markdown",
   "metadata": {},
   "source": [
    "### Initial mass"
   ]
  },
  {
   "cell_type": "code",
   "execution_count": 30,
   "metadata": {},
   "outputs": [
    {
     "name": "stdout",
     "output_type": "stream",
     "text": [
      "Initial mass of the first stage: 805593.7156242288 kg\n",
      "Initial mass of the first stage: 805.5937156242288 t\n"
     ]
    }
   ],
   "source": [
    "m_0_s_stage = m_sum_prop_with_struct * (z/(z-1))\n",
    "print(f\"Initial mass of the first stage: {m_0_s_stage} kg\")\n",
    "print(f\"Initial mass of the first stage: {m_0_s_stage / 1000} t\")"
   ]
  },
  {
   "cell_type": "markdown",
   "metadata": {},
   "source": [
    "### Structural mass"
   ]
  },
  {
   "cell_type": "markdown",
   "metadata": {},
   "source": [
    "#### New structural mass"
   ]
  },
  {
   "cell_type": "code",
   "execution_count": 31,
   "metadata": {},
   "outputs": [],
   "source": [
    "m_sum_prop = stage_df[\"m_prop_t\"].sum()"
   ]
  },
  {
   "cell_type": "code",
   "execution_count": 32,
   "metadata": {},
   "outputs": [
    {
     "name": "stdout",
     "output_type": "stream",
     "text": [
      "Total propellant mass: 632200 kg\n",
      "Total propellant mass: 632.2 t\n"
     ]
    }
   ],
   "source": [
    "print(f\"Total propellant mass: {m_sum_prop} kg\")\n",
    "print(f\"Total propellant mass: {m_sum_prop / 1000} t\")"
   ]
  },
  {
   "cell_type": "code",
   "execution_count": 33,
   "metadata": {},
   "outputs": [],
   "source": [
    "m_struct_s_stage = m_0_s_stage - payload_mass - m_sum_prop"
   ]
  },
  {
   "cell_type": "code",
   "execution_count": 34,
   "metadata": {},
   "outputs": [
    {
     "name": "stdout",
     "output_type": "stream",
     "text": [
      "Single stage structural mass: 151393.71562422882 kg\n",
      "Single stage Structural mass: 151.39371562422883 t\n"
     ]
    }
   ],
   "source": [
    "print(f\"Single stage structural mass: {m_struct_s_stage} kg\")\n",
    "print(f\"Single stage Structural mass: {m_struct_s_stage / 1000} t\")"
   ]
  },
  {
   "cell_type": "code",
   "execution_count": 35,
   "metadata": {},
   "outputs": [],
   "source": [
    "# Sum of all structural masses in the 3 stage system\n",
    "m_struct_sum = stage_df[\"m_struct_t\"].sum()"
   ]
  },
  {
   "cell_type": "code",
   "execution_count": 36,
   "metadata": {},
   "outputs": [
    {
     "name": "stdout",
     "output_type": "stream",
     "text": [
      "Sum of all structural masses: 45100 kg\n",
      "Sum of all structural masses: 45.1 t\n"
     ]
    }
   ],
   "source": [
    "print(f\"Sum of all structural masses: {m_struct_sum} kg\")\n",
    "print(f\"Sum of all structural masses: {m_struct_sum / 1000} t\")"
   ]
  },
  {
   "cell_type": "markdown",
   "metadata": {},
   "source": [
    "### Ratio"
   ]
  },
  {
   "cell_type": "code",
   "execution_count": 37,
   "metadata": {},
   "outputs": [
    {
     "name": "stdout",
     "output_type": "stream",
     "text": [
      "Ratio of the structural masses: 0.29789875896792023\n"
     ]
    }
   ],
   "source": [
    "ratio =  m_struct_sum / m_struct_s_stage\n",
    "print(f\"Ratio of the structural masses: {ratio}\")"
   ]
  }
 ],
 "metadata": {
  "kernelspec": {
   "display_name": ".venv",
   "language": "python",
   "name": "python3"
  },
  "language_info": {
   "codemirror_mode": {
    "name": "ipython",
    "version": 3
   },
   "file_extension": ".py",
   "mimetype": "text/x-python",
   "name": "python",
   "nbconvert_exporter": "python",
   "pygments_lexer": "ipython3",
   "version": "3.12.7"
  }
 },
 "nbformat": 4,
 "nbformat_minor": 2
}
