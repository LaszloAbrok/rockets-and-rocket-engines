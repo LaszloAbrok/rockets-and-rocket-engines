{
 "cells": [
  {
   "cell_type": "markdown",
   "metadata": {},
   "source": [
    "# Rockets, rocket engines - Homework 1"
   ]
  },
  {
   "cell_type": "markdown",
   "metadata": {},
   "source": [
    "### Imports"
   ]
  },
  {
   "cell_type": "code",
   "execution_count": 273,
   "metadata": {},
   "outputs": [],
   "source": [
    "import numpy as np\n",
    "import pandas as pd"
   ]
  },
  {
   "cell_type": "markdown",
   "metadata": {},
   "source": [
    "### Load datas"
   ]
  },
  {
   "cell_type": "code",
   "execution_count": 274,
   "metadata": {},
   "outputs": [
    {
     "data": {
      "text/html": [
       "<div>\n",
       "<style scoped>\n",
       "    .dataframe tbody tr th:only-of-type {\n",
       "        vertical-align: middle;\n",
       "    }\n",
       "\n",
       "    .dataframe tbody tr th {\n",
       "        vertical-align: top;\n",
       "    }\n",
       "\n",
       "    .dataframe thead th {\n",
       "        text-align: right;\n",
       "    }\n",
       "</style>\n",
       "<table border=\"1\" class=\"dataframe\">\n",
       "  <thead>\n",
       "    <tr style=\"text-align: right;\">\n",
       "      <th></th>\n",
       "      <th>stage</th>\n",
       "      <th>m_0_t</th>\n",
       "      <th>m_prop_t</th>\n",
       "      <th>vel_out_m_s</th>\n",
       "    </tr>\n",
       "  </thead>\n",
       "  <tbody>\n",
       "    <tr>\n",
       "      <th>0</th>\n",
       "      <td>1</td>\n",
       "      <td>458900</td>\n",
       "      <td>428300</td>\n",
       "      <td>2830</td>\n",
       "    </tr>\n",
       "    <tr>\n",
       "      <th>1</th>\n",
       "      <td>2</td>\n",
       "      <td>168300</td>\n",
       "      <td>157300</td>\n",
       "      <td>3140</td>\n",
       "    </tr>\n",
       "    <tr>\n",
       "      <th>2</th>\n",
       "      <td>3</td>\n",
       "      <td>50100</td>\n",
       "      <td>46600</td>\n",
       "      <td>3190</td>\n",
       "    </tr>\n",
       "  </tbody>\n",
       "</table>\n",
       "</div>"
      ],
      "text/plain": [
       "   stage   m_0_t  m_prop_t  vel_out_m_s\n",
       "0      1  458900    428300         2830\n",
       "1      2  168300    157300         3140\n",
       "2      3   50100     46600         3190"
      ]
     },
     "metadata": {},
     "output_type": "display_data"
    }
   ],
   "source": [
    "stage_df = pd.read_csv('../data/import/data-1.csv')\n",
    "display(stage_df)"
   ]
  },
  {
   "cell_type": "code",
   "execution_count": 275,
   "metadata": {},
   "outputs": [
    {
     "data": {
      "text/html": [
       "<div>\n",
       "<style scoped>\n",
       "    .dataframe tbody tr th:only-of-type {\n",
       "        vertical-align: middle;\n",
       "    }\n",
       "\n",
       "    .dataframe tbody tr th {\n",
       "        vertical-align: top;\n",
       "    }\n",
       "\n",
       "    .dataframe thead th {\n",
       "        text-align: right;\n",
       "    }\n",
       "</style>\n",
       "<table border=\"1\" class=\"dataframe\">\n",
       "  <thead>\n",
       "    <tr style=\"text-align: right;\">\n",
       "      <th></th>\n",
       "      <th>component</th>\n",
       "      <th>m_t</th>\n",
       "    </tr>\n",
       "  </thead>\n",
       "  <tbody>\n",
       "    <tr>\n",
       "      <th>0</th>\n",
       "      <td>payload</td>\n",
       "      <td>22000</td>\n",
       "    </tr>\n",
       "  </tbody>\n",
       "</table>\n",
       "</div>"
      ],
      "text/plain": [
       "  component    m_t\n",
       "0   payload  22000"
      ]
     },
     "metadata": {},
     "output_type": "display_data"
    },
    {
     "name": "stdout",
     "output_type": "stream",
     "text": [
      "22000\n"
     ]
    }
   ],
   "source": [
    "payload_df = pd.read_csv('../data/import/data-2.csv')\n",
    "display(payload_df)\n",
    "payload_mass = payload_df.loc[payload_df[\"component\"] == \"payload\", \"m_t\"].values[0]\n",
    "print(payload_mass)"
   ]
  },
  {
   "cell_type": "markdown",
   "metadata": {},
   "source": [
    "## 1. How much Δ𝑣 accelaration can be achived with each stage?"
   ]
  },
  {
   "cell_type": "code",
   "execution_count": 276,
   "metadata": {},
   "outputs": [],
   "source": [
    "def delta_v(we, m_0, m_f):\n",
    "     return we * np.log(m_0 / m_f)"
   ]
  },
  {
   "cell_type": "code",
   "execution_count": 277,
   "metadata": {},
   "outputs": [],
   "source": [
    "stage_df[\"m_struct_t\"] = stage_df[\"m_0_t\"] - stage_df[\"m_prop_t\"]"
   ]
  },
  {
   "cell_type": "code",
   "execution_count": 278,
   "metadata": {},
   "outputs": [
    {
     "data": {
      "text/html": [
       "<div>\n",
       "<style scoped>\n",
       "    .dataframe tbody tr th:only-of-type {\n",
       "        vertical-align: middle;\n",
       "    }\n",
       "\n",
       "    .dataframe tbody tr th {\n",
       "        vertical-align: top;\n",
       "    }\n",
       "\n",
       "    .dataframe thead th {\n",
       "        text-align: right;\n",
       "    }\n",
       "</style>\n",
       "<table border=\"1\" class=\"dataframe\">\n",
       "  <thead>\n",
       "    <tr style=\"text-align: right;\">\n",
       "      <th></th>\n",
       "      <th>stage</th>\n",
       "      <th>m_0_t</th>\n",
       "      <th>m_prop_t</th>\n",
       "      <th>vel_out_m_s</th>\n",
       "      <th>m_struct_t</th>\n",
       "    </tr>\n",
       "  </thead>\n",
       "  <tbody>\n",
       "    <tr>\n",
       "      <th>0</th>\n",
       "      <td>1</td>\n",
       "      <td>458900</td>\n",
       "      <td>428300</td>\n",
       "      <td>2830</td>\n",
       "      <td>30600</td>\n",
       "    </tr>\n",
       "    <tr>\n",
       "      <th>1</th>\n",
       "      <td>2</td>\n",
       "      <td>168300</td>\n",
       "      <td>157300</td>\n",
       "      <td>3140</td>\n",
       "      <td>11000</td>\n",
       "    </tr>\n",
       "    <tr>\n",
       "      <th>2</th>\n",
       "      <td>3</td>\n",
       "      <td>50100</td>\n",
       "      <td>46600</td>\n",
       "      <td>3190</td>\n",
       "      <td>3500</td>\n",
       "    </tr>\n",
       "  </tbody>\n",
       "</table>\n",
       "</div>"
      ],
      "text/plain": [
       "   stage   m_0_t  m_prop_t  vel_out_m_s  m_struct_t\n",
       "0      1  458900    428300         2830       30600\n",
       "1      2  168300    157300         3140       11000\n",
       "2      3   50100     46600         3190        3500"
      ]
     },
     "metadata": {},
     "output_type": "display_data"
    }
   ],
   "source": [
    "display(stage_df)"
   ]
  },
  {
   "cell_type": "code",
   "execution_count": 279,
   "metadata": {},
   "outputs": [],
   "source": [
    "upper_stages_masses = []\n",
    "for i in range(len(stage_df)):\n",
    "    upper_stages_masses.append(sum(stage_df.loc[i+1:, \"m_0_t\"]))"
   ]
  },
  {
   "cell_type": "code",
   "execution_count": 280,
   "metadata": {},
   "outputs": [
    {
     "data": {
      "text/plain": [
       "[218400, 50100, 0]"
      ]
     },
     "metadata": {},
     "output_type": "display_data"
    }
   ],
   "source": [
    "display(upper_stages_masses)"
   ]
  },
  {
   "cell_type": "code",
   "execution_count": 281,
   "metadata": {},
   "outputs": [
    {
     "data": {
      "text/html": [
       "<div>\n",
       "<style scoped>\n",
       "    .dataframe tbody tr th:only-of-type {\n",
       "        vertical-align: middle;\n",
       "    }\n",
       "\n",
       "    .dataframe tbody tr th {\n",
       "        vertical-align: top;\n",
       "    }\n",
       "\n",
       "    .dataframe thead th {\n",
       "        text-align: right;\n",
       "    }\n",
       "</style>\n",
       "<table border=\"1\" class=\"dataframe\">\n",
       "  <thead>\n",
       "    <tr style=\"text-align: right;\">\n",
       "      <th></th>\n",
       "      <th>stage</th>\n",
       "      <th>m_0_t</th>\n",
       "      <th>m_prop_t</th>\n",
       "      <th>vel_out_m_s</th>\n",
       "      <th>m_struct_t</th>\n",
       "      <th>m_final_t</th>\n",
       "    </tr>\n",
       "  </thead>\n",
       "  <tbody>\n",
       "    <tr>\n",
       "      <th>0</th>\n",
       "      <td>1</td>\n",
       "      <td>458900</td>\n",
       "      <td>428300</td>\n",
       "      <td>2830</td>\n",
       "      <td>30600</td>\n",
       "      <td>271000.0</td>\n",
       "    </tr>\n",
       "    <tr>\n",
       "      <th>1</th>\n",
       "      <td>2</td>\n",
       "      <td>168300</td>\n",
       "      <td>157300</td>\n",
       "      <td>3140</td>\n",
       "      <td>11000</td>\n",
       "      <td>83100.0</td>\n",
       "    </tr>\n",
       "    <tr>\n",
       "      <th>2</th>\n",
       "      <td>3</td>\n",
       "      <td>50100</td>\n",
       "      <td>46600</td>\n",
       "      <td>3190</td>\n",
       "      <td>3500</td>\n",
       "      <td>25500.0</td>\n",
       "    </tr>\n",
       "  </tbody>\n",
       "</table>\n",
       "</div>"
      ],
      "text/plain": [
       "   stage   m_0_t  m_prop_t  vel_out_m_s  m_struct_t  m_final_t\n",
       "0      1  458900    428300         2830       30600   271000.0\n",
       "1      2  168300    157300         3140       11000    83100.0\n",
       "2      3   50100     46600         3190        3500    25500.0"
      ]
     },
     "metadata": {},
     "output_type": "display_data"
    }
   ],
   "source": [
    "for i in range(len(stage_df)):\n",
    "    stage_df.loc[i, \"m_final_t\"] = upper_stages_masses[i] + payload_mass +  stage_df.loc[i, \"m_struct_t\"]\n",
    "\n",
    "display(stage_df)"
   ]
  },
  {
   "cell_type": "code",
   "execution_count": 282,
   "metadata": {},
   "outputs": [
    {
     "data": {
      "text/html": [
       "<div>\n",
       "<style scoped>\n",
       "    .dataframe tbody tr th:only-of-type {\n",
       "        vertical-align: middle;\n",
       "    }\n",
       "\n",
       "    .dataframe tbody tr th {\n",
       "        vertical-align: top;\n",
       "    }\n",
       "\n",
       "    .dataframe thead th {\n",
       "        text-align: right;\n",
       "    }\n",
       "</style>\n",
       "<table border=\"1\" class=\"dataframe\">\n",
       "  <thead>\n",
       "    <tr style=\"text-align: right;\">\n",
       "      <th></th>\n",
       "      <th>stage</th>\n",
       "      <th>m_0_t</th>\n",
       "      <th>m_prop_t</th>\n",
       "      <th>vel_out_m_s</th>\n",
       "      <th>m_struct_t</th>\n",
       "      <th>m_final_t</th>\n",
       "      <th>delta_v</th>\n",
       "    </tr>\n",
       "  </thead>\n",
       "  <tbody>\n",
       "    <tr>\n",
       "      <th>0</th>\n",
       "      <td>1</td>\n",
       "      <td>458900</td>\n",
       "      <td>428300</td>\n",
       "      <td>2830</td>\n",
       "      <td>30600</td>\n",
       "      <td>271000.0</td>\n",
       "      <td>1490.599206</td>\n",
       "    </tr>\n",
       "    <tr>\n",
       "      <th>1</th>\n",
       "      <td>2</td>\n",
       "      <td>168300</td>\n",
       "      <td>157300</td>\n",
       "      <td>3140</td>\n",
       "      <td>11000</td>\n",
       "      <td>83100.0</td>\n",
       "      <td>2215.908674</td>\n",
       "    </tr>\n",
       "    <tr>\n",
       "      <th>2</th>\n",
       "      <td>3</td>\n",
       "      <td>50100</td>\n",
       "      <td>46600</td>\n",
       "      <td>3190</td>\n",
       "      <td>3500</td>\n",
       "      <td>25500.0</td>\n",
       "      <td>2154.342753</td>\n",
       "    </tr>\n",
       "  </tbody>\n",
       "</table>\n",
       "</div>"
      ],
      "text/plain": [
       "   stage   m_0_t  m_prop_t  vel_out_m_s  m_struct_t  m_final_t      delta_v\n",
       "0      1  458900    428300         2830       30600   271000.0  1490.599206\n",
       "1      2  168300    157300         3140       11000    83100.0  2215.908674\n",
       "2      3   50100     46600         3190        3500    25500.0  2154.342753"
      ]
     },
     "metadata": {},
     "output_type": "display_data"
    }
   ],
   "source": [
    "for i in range(len(stage_df)):\n",
    "    stage_df.loc[i, \"delta_v\"] = delta_v(stage_df.loc[i, \"vel_out_m_s\"], stage_df.loc[i, \"m_0_t\"], stage_df.loc[i, \"m_final_t\"])\n",
    "\n",
    "display(stage_df)"
   ]
  },
  {
   "cell_type": "code",
   "execution_count": 283,
   "metadata": {},
   "outputs": [
    {
     "data": {
      "text/plain": [
       "0    1490.599206\n",
       "1    2215.908674\n",
       "2    2154.342753\n",
       "Name: delta_v, dtype: float64"
      ]
     },
     "metadata": {},
     "output_type": "display_data"
    }
   ],
   "source": [
    "display(stage_df['delta_v']) # m/s"
   ]
  },
  {
   "cell_type": "markdown",
   "metadata": {},
   "source": [
    "## 2. Structural coefficient"
   ]
  },
  {
   "cell_type": "code",
   "execution_count": 284,
   "metadata": {},
   "outputs": [],
   "source": [
    "def structural_coefficient(m_prop, m_initial):\n",
    "    return m_initial / (m_initial - m_prop)"
   ]
  },
  {
   "cell_type": "code",
   "execution_count": 285,
   "metadata": {},
   "outputs": [],
   "source": [
    "stage_df[\"struct_coeff\"] = 0.0"
   ]
  },
  {
   "cell_type": "code",
   "execution_count": 286,
   "metadata": {},
   "outputs": [],
   "source": [
    "for i in range(len(stage_df)):\n",
    "    stage_df.loc[i, \"struct_coeff\"] = structural_coefficient(stage_df.loc[i, \"m_prop_t\"], stage_df.loc[i, \"m_0_t\"])"
   ]
  },
  {
   "cell_type": "code",
   "execution_count": 287,
   "metadata": {},
   "outputs": [
    {
     "data": {
      "text/html": [
       "<div>\n",
       "<style scoped>\n",
       "    .dataframe tbody tr th:only-of-type {\n",
       "        vertical-align: middle;\n",
       "    }\n",
       "\n",
       "    .dataframe tbody tr th {\n",
       "        vertical-align: top;\n",
       "    }\n",
       "\n",
       "    .dataframe thead th {\n",
       "        text-align: right;\n",
       "    }\n",
       "</style>\n",
       "<table border=\"1\" class=\"dataframe\">\n",
       "  <thead>\n",
       "    <tr style=\"text-align: right;\">\n",
       "      <th></th>\n",
       "      <th>stage</th>\n",
       "      <th>m_0_t</th>\n",
       "      <th>m_prop_t</th>\n",
       "      <th>vel_out_m_s</th>\n",
       "      <th>m_struct_t</th>\n",
       "      <th>m_final_t</th>\n",
       "      <th>delta_v</th>\n",
       "      <th>struct_coeff</th>\n",
       "    </tr>\n",
       "  </thead>\n",
       "  <tbody>\n",
       "    <tr>\n",
       "      <th>0</th>\n",
       "      <td>1</td>\n",
       "      <td>458900</td>\n",
       "      <td>428300</td>\n",
       "      <td>2830</td>\n",
       "      <td>30600</td>\n",
       "      <td>271000.0</td>\n",
       "      <td>1490.599206</td>\n",
       "      <td>14.996732</td>\n",
       "    </tr>\n",
       "    <tr>\n",
       "      <th>1</th>\n",
       "      <td>2</td>\n",
       "      <td>168300</td>\n",
       "      <td>157300</td>\n",
       "      <td>3140</td>\n",
       "      <td>11000</td>\n",
       "      <td>83100.0</td>\n",
       "      <td>2215.908674</td>\n",
       "      <td>15.300000</td>\n",
       "    </tr>\n",
       "    <tr>\n",
       "      <th>2</th>\n",
       "      <td>3</td>\n",
       "      <td>50100</td>\n",
       "      <td>46600</td>\n",
       "      <td>3190</td>\n",
       "      <td>3500</td>\n",
       "      <td>25500.0</td>\n",
       "      <td>2154.342753</td>\n",
       "      <td>14.314286</td>\n",
       "    </tr>\n",
       "  </tbody>\n",
       "</table>\n",
       "</div>"
      ],
      "text/plain": [
       "   stage   m_0_t  m_prop_t  vel_out_m_s  m_struct_t  m_final_t      delta_v  \\\n",
       "0      1  458900    428300         2830       30600   271000.0  1490.599206   \n",
       "1      2  168300    157300         3140       11000    83100.0  2215.908674   \n",
       "2      3   50100     46600         3190        3500    25500.0  2154.342753   \n",
       "\n",
       "   struct_coeff  \n",
       "0     14.996732  \n",
       "1     15.300000  \n",
       "2     14.314286  "
      ]
     },
     "metadata": {},
     "output_type": "display_data"
    }
   ],
   "source": [
    "display(stage_df)"
   ]
  },
  {
   "cell_type": "markdown",
   "metadata": {},
   "source": [
    "## 3. Final velocity"
   ]
  },
  {
   "cell_type": "code",
   "execution_count": 288,
   "metadata": {},
   "outputs": [
    {
     "data": {
      "text/plain": [
       "np.float64(5860.8506337930385)"
      ]
     },
     "metadata": {},
     "output_type": "display_data"
    }
   ],
   "source": [
    "delta_v_sum = stage_df[\"delta_v\"].sum()\n",
    "display(delta_v_sum)"
   ]
  },
  {
   "cell_type": "code",
   "execution_count": 289,
   "metadata": {},
   "outputs": [],
   "source": [
    "v_earth = 465 # m/s\n",
    "deg = 45.95"
   ]
  },
  {
   "cell_type": "code",
   "execution_count": 290,
   "metadata": {},
   "outputs": [],
   "source": [
    "v_final = delta_v_sum + v_earth * np.cos(np.radians(deg))"
   ]
  },
  {
   "cell_type": "code",
   "execution_count": 291,
   "metadata": {},
   "outputs": [
    {
     "name": "stdout",
     "output_type": "stream",
     "text": [
      "Final velocity: 6184.158553238991 m/s\n",
      "Final velocity: 6.184158553238991 km/s\n"
     ]
    }
   ],
   "source": [
    "print(f\"Final velocity: {v_final} m/s\")\n",
    "print(f\"Final velocity: {v_final / 1000} km/s\")"
   ]
  },
  {
   "cell_type": "markdown",
   "metadata": {},
   "source": [
    "## 4. Height"
   ]
  },
  {
   "cell_type": "code",
   "execution_count": 292,
   "metadata": {},
   "outputs": [],
   "source": [
    "g = 9.81\n"
   ]
  },
  {
   "cell_type": "code",
   "execution_count": 293,
   "metadata": {},
   "outputs": [],
   "source": [
    "h = v_final**2 / (2 * g)"
   ]
  },
  {
   "cell_type": "code",
   "execution_count": 294,
   "metadata": {},
   "outputs": [
    {
     "name": "stdout",
     "output_type": "stream",
     "text": [
      "Final height: 1949226.1473801716 m\n",
      "Final height: 1949.2261473801716 km\n"
     ]
    }
   ],
   "source": [
    "print(f\"Final height: {h} m\")\n",
    "print(f\"Final height: {h / 1000} km\")"
   ]
  },
  {
   "cell_type": "markdown",
   "metadata": {},
   "source": [
    "## 5. Single stage"
   ]
  },
  {
   "cell_type": "code",
   "execution_count": 295,
   "metadata": {},
   "outputs": [],
   "source": [
    "w_s_stage = 3190.0 # m/s"
   ]
  },
  {
   "cell_type": "code",
   "execution_count": 296,
   "metadata": {},
   "outputs": [
    {
     "name": "stdout",
     "output_type": "stream",
     "text": [
      "total velocity: 5860.8506337930385 m/s\n"
     ]
    }
   ],
   "source": [
    "print(f\"total velocity: {delta_v_sum} m/s\")"
   ]
  },
  {
   "cell_type": "code",
   "execution_count": 297,
   "metadata": {},
   "outputs": [
    {
     "data": {
      "text/plain": [
       "np.float64(6.279292104874458)"
      ]
     },
     "metadata": {},
     "output_type": "display_data"
    }
   ],
   "source": [
    "z = np.exp(delta_v_sum / w_s_stage)\n",
    "display(z)"
   ]
  },
  {
   "cell_type": "markdown",
   "metadata": {},
   "source": [
    "### Initial mass"
   ]
  },
  {
   "cell_type": "code",
   "execution_count": 298,
   "metadata": {},
   "outputs": [
    {
     "name": "stdout",
     "output_type": "stream",
     "text": [
      "Initial mass of the first stage: 26167.225370933167 kg\n",
      "Initial mass of the first stage: 26.167225370933167 t\n"
     ]
    }
   ],
   "source": [
    "m_0_s_stage = z/(z-1) * payload_mass\n",
    "print(f\"Initial mass of the first stage: {m_0_s_stage} kg\")\n",
    "print(f\"Initial mass of the first stage: {m_0_s_stage / 1000} t\")"
   ]
  },
  {
   "cell_type": "markdown",
   "metadata": {},
   "source": [
    "### Structural mass"
   ]
  },
  {
   "cell_type": "code",
   "execution_count": 299,
   "metadata": {},
   "outputs": [],
   "source": [
    "m_sum_prop = stage_df[\"m_prop_t\"].sum()"
   ]
  },
  {
   "cell_type": "code",
   "execution_count": 300,
   "metadata": {},
   "outputs": [
    {
     "name": "stdout",
     "output_type": "stream",
     "text": [
      "Total propellant mass: 632200 kg\n",
      "Total propellant mass: 632.2 t\n"
     ]
    }
   ],
   "source": [
    "print(f\"Total propellant mass: {m_sum_prop} kg\")\n",
    "print(f\"Total propellant mass: {m_sum_prop / 1000} t\")"
   ]
  },
  {
   "cell_type": "code",
   "execution_count": 301,
   "metadata": {},
   "outputs": [],
   "source": [
    "m_struct_s_stage = m_0_s_stage - payload_mass - m_sum_prop"
   ]
  },
  {
   "cell_type": "code",
   "execution_count": 302,
   "metadata": {},
   "outputs": [
    {
     "name": "stdout",
     "output_type": "stream",
     "text": [
      "Structural mass of the first stage: -628032.7746290668 kg\n",
      "Structural mass of the first stage: -628.0327746290668 t\n"
     ]
    }
   ],
   "source": [
    "print(f\"Structural mass of the first stage: {m_struct_s_stage} kg\")\n",
    "print(f\"Structural mass of the first stage: {m_struct_s_stage / 1000} t\")"
   ]
  }
 ],
 "metadata": {
  "kernelspec": {
   "display_name": ".venv",
   "language": "python",
   "name": "python3"
  },
  "language_info": {
   "codemirror_mode": {
    "name": "ipython",
    "version": 3
   },
   "file_extension": ".py",
   "mimetype": "text/x-python",
   "name": "python",
   "nbconvert_exporter": "python",
   "pygments_lexer": "ipython3",
   "version": "3.12.7"
  }
 },
 "nbformat": 4,
 "nbformat_minor": 2
}
